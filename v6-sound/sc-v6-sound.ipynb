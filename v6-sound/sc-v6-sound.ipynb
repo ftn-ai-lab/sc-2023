{
 "cells": [
  {
   "cell_type": "markdown",
   "metadata": {},
   "source": [
    "# Soft Computing\n",
    "\n",
    "## Vežba 6 - Klasifikacija zvuka\n",
    "\n",
    "### Zvuk"
   ]
  },
  {
   "cell_type": "markdown",
   "metadata": {},
   "source": [
    "Zvuk je mehanički talas frekvencija od 16Hz do 20kHZ, tj. u rasponu u kojem ga čuje ljudsko uvo. Zvuk frekvencije:\n",
    "* niže od 16Hz - infrazvuk\n",
    "* više od 20kHz - ultrazvuk\n",
    "* više od 1GHz - hiperzvuk.\n",
    "\n",
    "Zvuk nastaje više ili manje periodičnim oscilovanjem izvora zvuka koji u neposrednoj okolini menja pritisak medijuma, poremećaj pritiska prenosi se na susedne čestice medijuma i tako se širi u obliku:\n",
    "* uglavnom longitudinalnih talasa u gasovima i tečnostima i\n",
    "* longitudinalnih i transferzalnih talasa u čvrstim telima. \n",
    "\n",
    "Talasi su vibracije koje prenose energiju sa mesta na mesto bez prenošenja materije.\n",
    "\n",
    "![Zvučni talasi](images/waves.jpeg)\n",
    "\n",
    "Zvuk su kompresije i razređivanja u vazduhu koje će uvo pokupiti. Zvuk je kretanje vazduha. Često se izražava talasnim oblikom koji pokazuje šta se dešava sa česticama vazduha koje se tokom vremena kreću napred-nazad. Vertikalna osa pokazuje kako se vazduh kreće unazad ili unapred u odnosu na nultu poziciju. Horizontalna osa pokazuje vreme."
   ]
  },
  {
   "cell_type": "markdown",
   "metadata": {},
   "source": [
    "### Uzorkovanje\n",
    "\n",
    "U obradi signala, uzorkovanje je redukcija kontinualnog signala u niz diskrenih vrednosti. Frekvencija ili brzina uzorkovanja je broj uzoraka uzetih tokom određenog vremenskog perioda. Visoka frekvencija uzorkovanja rezultira sa manjim gubitkom informacija, ali većim troškovima izračunavanja. Niske frekvencije uzorkovanja imaju veći gubitak informacija, ali su brze i jeftine za izračunavanje.\n",
    "\n",
    "![Uzorkovanje](images/sampling.png)\n",
    "\n",
    "Frekvencija ili brzina uzorkovanja (eng. *sampling rate*) i bitna dubina (eng. *bit depth*) su dva najvažnija elementa kod diskretizacije zvučnog signala. Frekvencija uzorkovanja određuje koliko često će uzimati uzorke, a bitna dubina određuje kako detaljno će uzimati uzorke, kao što je prikazano na slici ispod:\n",
    "\n",
    "![Uzorkovanje](images/sampling2.jpeg)\n",
    "\n",
    "Obično, CD ima 44.1kHz frekvenciju uzorkovanja sa 16-bitnom dubinom. To znači da se uzorci uzimaju 44100 puta u sekundi i da bilo koji uzorak može uzeti vrednosti iz raspona 65536 vrednosti, što će odgovarati njegovoj amplitudi.\n",
    "\n",
    "Pored frekvencije uzorkovanja i bitne dubine, još se najčešće spominje i broj kanala (eng. *channels*). Najčešće vrednosti za broj kanala su 1 (mono) i 2 (stereo). \n",
    "\n",
    "\n",
    "### Amplituda\n",
    "\n",
    "Amplituda zvučnog talasa je mera njegove promene tokom određenog perioda. Druga uobičajena definicija amplitude je funkcija veličine razlike između ekstremnih vrednosti varijable. \n",
    "\n",
    "\n",
    "### Furijeova transformacija\n",
    "\n",
    "Furijeova transformacija razlaže funkciju vremena (signal) u frekvencije koje ga čine.\n",
    "\n",
    "![Furijeova transformacija](images/fourier.png)\n",
    "\n",
    "Na isti način kao što se muzički akord može predstaviti glasnoćom i frekvencijama njegovih sastavnih nota, Furijeova transformacija funkcije prikazuje amplitudu svake frekvencije prisutne u osnovnoj funkciji (signalu).\n",
    "\n",
    "![Furijeova transformacija signala](images/fourier1.png)\n",
    "\n",
    "\n",
    "### Periodogram\n",
    "\n",
    "U obradi signala, periodogram je procena spektralne gustine signala.\n",
    "\n",
    "![Periodogram](images/periodogram.png)\n",
    "\n",
    "Periodogram iznad pokazuje spektar snage dve sinusoidne funkcije od ~ 30Hz i ~ 50Hz. Izlaz Furijeove transformacije se može zamisliti kao periodogram.\n",
    "\n",
    "### Spektralna gustina\n",
    "\n",
    "Spektar jačine (eng. *power spectrum*) talasnog oblika je način za opisivanje distribucije snage u diskrentim frekvencijskim komponentama koje čine taj signal. Statistički prosek signala, meren njegovim frekvencijskim sadržajem, naziva se njegovim spektrom. Spektralna gustina (eng. *spectral density*) digitalnog signala opisuje frekvencijski sadržaj signala.\n",
    "\n",
    "![Spectral density](images/spectral.png)\n",
    "\n",
    "### Mel-skala\n",
    "\n",
    "Mel-skala (eng. *Mel-scale*) je skala visine tonova za koje slušaoci procenjuju da su jednaki u udaljenosti jedan od drugog. Referentna tačka između mel-skale i normalnog merenja frekvencije je proizvoljno definisana dodeljivanjem perceptivnog tona od 1000 mela na 1000Hz. \n",
    "\n",
    "![Mel-scale](images/mel.png)\n",
    "\n",
    "Formula za konverziju f Hz u m melova je:\n",
    "\n",
    "![Mel-scale formula](images/mels.png)\n",
    "\n",
    "\n",
    "### Cepstrum\n",
    "\n",
    "Cepstrum je rezultat uzimanja Furijeove transformacije logartima procenjenog spektra snage signala."
   ]
  },
  {
   "cell_type": "markdown",
   "metadata": {},
   "source": [
    "### Zadatak - Klasifikacija urbanih zvukova\n",
    "\n",
    "Kreiranje modela mašinskog učenja za klasifikaciju, opis ili generisanje zvuka obično se odnosi na modelovanje gde su ulazni podaci zvučni uzorci.\n",
    "\n",
    "Dat je deo [UrbanSound8K](https://urbansounddataset.weebly.com/urbansound8k.html) skupa podataka koji sadrži označene zvučne uzorke (dužine <= 4 sekunde) urbanih zvukova iz 10 klasa:\n",
    "* klima uređaj (*air conditioner*)\n",
    "* auto sirena (*car horn*)\n",
    "* dečija igra (*children playing*)\n",
    "* lavež pasa (*dog bark*)\n",
    "* bušenje (*drilling*)\n",
    "* motor u praznom hodu (*engine idling*)\n",
    "* pucanj (*gun shot*)\n",
    "* sirena (*siren*)\n",
    "* ulična muzika (*street music*)\n",
    "* pneumatska bušilica (*jackhammer*, ili na [francuskom](https://www.youtube.com/watch?v=JqnPlH7Aol4)).\n",
    "\n",
    "Primer za svaku klasu je dat u **samples/** folderu.\n",
    "\n",
    "Skup podataka se nalazi u **data/** folderu tako da se:\n",
    "* zvučni fajlovi nalaze u **data/audio/** folderu\n",
    "* metapodaci nalaze u **data/metadata.csv** (opis svih kolona iz metapodataka dat je na gorenavedenom linku).\n",
    "\n",
    "Potrebno je kreirati klasifikator koji će klasifikovati zvučne odlomke u odgovarajuću klasu sa što većom tačnošću."
   ]
  },
  {
   "cell_type": "markdown",
   "metadata": {},
   "source": [
    "### LibROSA\n",
    "\n",
    "Za rad sa zvukom ćemo koristiti Python-ov paket za zvučnu i muzičku analizu - **LibROSA**:\n",
    "* [Dokumentacija](https://librosa.org/doc/0.8.1/index.html)\n",
    "* [Tutorial](https://librosa.org/doc/0.8.1/tutorial.html)\n",
    "* [Naučni rad](http://conference.scipy.org/proceedings/scipy2015/pdfs/brian_mcfee.pdf)"
   ]
  },
  {
   "cell_type": "code",
   "execution_count": null,
   "metadata": {},
   "outputs": [],
   "source": [
    "import numpy as np\n",
    "import pandas as pd\n",
    "\n",
    "import IPython.display as ipd\n",
    "\n",
    "import librosa\n",
    "import librosa.display\n",
    "\n",
    "import matplotlib.pyplot as plt\n",
    "%matplotlib inline"
   ]
  },
  {
   "cell_type": "markdown",
   "metadata": {},
   "source": [
    "##### Metapodaci"
   ]
  },
  {
   "cell_type": "code",
   "execution_count": null,
   "metadata": {},
   "outputs": [],
   "source": [
    "df = pd.read_csv(\"data/metadata.csv\")"
   ]
  },
  {
   "cell_type": "markdown",
   "metadata": {},
   "source": [
    "Prikaz zaglavlja i prvih 5 redova metapodataka:"
   ]
  },
  {
   "cell_type": "code",
   "execution_count": null,
   "metadata": {},
   "outputs": [],
   "source": [
    "df.head()"
   ]
  },
  {
   "cell_type": "markdown",
   "metadata": {},
   "source": [
    "Ukupan broj redova u skupu podataka, informacije o kolonama (tip podataka, da li sadrži nedostajuće vrednosti) i ukupna zauzetost RAM memorije od strane metapodataka: "
   ]
  },
  {
   "cell_type": "code",
   "execution_count": null,
   "metadata": {},
   "outputs": [],
   "source": [
    "df.info()"
   ]
  },
  {
   "cell_type": "markdown",
   "metadata": {},
   "source": [
    "Distribucija klasa u skupu podataka može se utvrditi brojanjem pojavljivanja svake klase u **class** koloni:"
   ]
  },
  {
   "cell_type": "code",
   "execution_count": null,
   "metadata": {},
   "outputs": [],
   "source": [
    "df[\"class\"].value_counts()"
   ]
  },
  {
   "cell_type": "markdown",
   "metadata": {},
   "source": [
    "##### Primeri za svaku klasu\n",
    "\n",
    "Zvučni uzorci se obično predstavljaju kao vremenske serije (eng. *time series*), gde y-osa predstavlja amplitudu talasnog oblika. Amplituda se obično meri kao funkcija promene pritiska oko mikrofona ili prijemnog uređaja koji je prvobitno pokupio zvuk.\n",
    "\n",
    "Ako nema metapodataka povezanih sa zvučnim uzorcima, ovi signali vremenske serije (eng. *time series signals*) su često jedini ulazni podaci za treniranje modela.\n",
    "\n",
    "Slede primeri svake klase iz našeg skupa podataka. Primer su propraćeni brzinom uzorkovanja, opsegom amplitude i grafičkim prikazom vremenske serije signala."
   ]
  },
  {
   "cell_type": "code",
   "execution_count": null,
   "metadata": {},
   "outputs": [],
   "source": [
    "def display_sample(file_path):\n",
    "    plt.figure(figsize=(12, 4))\n",
    "    data, sample_rate = librosa.load(file_path)\n",
    "    print(\"Sample rate: \", sample_rate)\n",
    "    print(\"min-max range: \", np.min(data), 'to', np.max(data))\n",
    "    _ = librosa.display.waveshow(data, sr=sample_rate, color=\"blue\")"
   ]
  },
  {
   "cell_type": "code",
   "execution_count": null,
   "metadata": {},
   "outputs": [],
   "source": [
    "ipd.Audio(\"samples/air_con.wav\")"
   ]
  },
  {
   "cell_type": "code",
   "execution_count": null,
   "metadata": {},
   "outputs": [],
   "source": [
    "display_sample(\"samples/air_con.wav\")"
   ]
  },
  {
   "cell_type": "code",
   "execution_count": null,
   "metadata": {},
   "outputs": [],
   "source": [
    "ipd.Audio(\"samples/car_horn.wav\")"
   ]
  },
  {
   "cell_type": "code",
   "execution_count": null,
   "metadata": {},
   "outputs": [],
   "source": [
    "display_sample(\"samples/car_horn.wav\")"
   ]
  },
  {
   "cell_type": "code",
   "execution_count": null,
   "metadata": {},
   "outputs": [],
   "source": [
    "ipd.Audio(\"samples/child_play.wav\")"
   ]
  },
  {
   "cell_type": "code",
   "execution_count": null,
   "metadata": {},
   "outputs": [],
   "source": [
    "display_sample(\"samples/child_play.wav\")"
   ]
  },
  {
   "cell_type": "code",
   "execution_count": null,
   "metadata": {},
   "outputs": [],
   "source": [
    "ipd.Audio(\"samples/dog_bark.wav\")"
   ]
  },
  {
   "cell_type": "code",
   "execution_count": null,
   "metadata": {},
   "outputs": [],
   "source": [
    "display_sample(\"samples/dog_bark.wav\")"
   ]
  },
  {
   "cell_type": "code",
   "execution_count": null,
   "metadata": {},
   "outputs": [],
   "source": [
    "ipd.Audio(\"samples/drilling.wav\")"
   ]
  },
  {
   "cell_type": "code",
   "execution_count": null,
   "metadata": {},
   "outputs": [],
   "source": [
    "display_sample(\"samples/drilling.wav\")"
   ]
  },
  {
   "cell_type": "code",
   "execution_count": null,
   "metadata": {},
   "outputs": [],
   "source": [
    "ipd.Audio(\"samples/eng_idle.wav\")"
   ]
  },
  {
   "cell_type": "code",
   "execution_count": null,
   "metadata": {},
   "outputs": [],
   "source": [
    "display_sample(\"samples/eng_idle.wav\")"
   ]
  },
  {
   "cell_type": "code",
   "execution_count": null,
   "metadata": {},
   "outputs": [],
   "source": [
    "ipd.Audio(\"samples/gun.wav\")"
   ]
  },
  {
   "cell_type": "code",
   "execution_count": null,
   "metadata": {},
   "outputs": [],
   "source": [
    "display_sample(\"samples/gun.wav\")"
   ]
  },
  {
   "cell_type": "code",
   "execution_count": null,
   "metadata": {},
   "outputs": [],
   "source": [
    "ipd.Audio(\"samples/jackhammer.wav\")"
   ]
  },
  {
   "cell_type": "code",
   "execution_count": null,
   "metadata": {},
   "outputs": [],
   "source": [
    "display_sample(\"samples/jackhammer.wav\")"
   ]
  },
  {
   "cell_type": "code",
   "execution_count": null,
   "metadata": {},
   "outputs": [],
   "source": [
    "ipd.Audio(\"samples/siren.wav\")"
   ]
  },
  {
   "cell_type": "code",
   "execution_count": null,
   "metadata": {},
   "outputs": [],
   "source": [
    "display_sample(\"samples/siren.wav\")"
   ]
  },
  {
   "cell_type": "code",
   "execution_count": null,
   "metadata": {},
   "outputs": [],
   "source": [
    "ipd.Audio(\"samples/street_music.wav\")"
   ]
  },
  {
   "cell_type": "code",
   "execution_count": null,
   "metadata": {},
   "outputs": [],
   "source": [
    "display_sample(\"samples/street_music.wav\")"
   ]
  },
  {
   "cell_type": "markdown",
   "metadata": {},
   "source": [
    "Pregledom primera iznad, jasno je da sam talasni oblik ne mora nužno da daje jasne podatke o identifikaciji klase. Talasni oblici za motor u praznom hodu, sirenu i pneumatsku bušilicu izgledaju prilično slično."
   ]
  },
  {
   "cell_type": "markdown",
   "metadata": {},
   "source": [
    "#### Izdvajanje osobina"
   ]
  },
  {
   "cell_type": "markdown",
   "metadata": {},
   "source": [
    "Jedna od najboljih tehnika za izdvajanje osobina iz talasnih oblika (i signala uopšte) jeste tehnika iz 1980-te godine - **Mel Frequency Cepstral Coefficients** *(MFCCs)*, koju su osmislili [*Davis* i *Mermelstein*](https://courses.engr.illinois.edu/ece417/fa2017/davis80.pdf). \n",
    "\n",
    "Koraci kod MFCCs su:\n",
    "1. Furijeova transformacija signala\n",
    "2. Mapiranje snage spektra dobijenog u koraku 1 na Mel-skalu\n",
    "3. Logaritmovanje snage svake frekvencije na Mel-skali\n",
    "4. Diskretna kosinusna transformacija liste iz koraka 3, kao da je signal\n",
    "5. MFCCs su amplitude rezultujućeg spektra."
   ]
  },
  {
   "cell_type": "code",
   "execution_count": null,
   "metadata": {},
   "outputs": [],
   "source": [
    "librosa_audio, librosa_sample_rate = librosa.load(\"samples/air_con.wav\")"
   ]
  },
  {
   "cell_type": "code",
   "execution_count": null,
   "metadata": {},
   "outputs": [],
   "source": [
    "mfccs = librosa.feature.mfcc(y=librosa_audio, sr=librosa_sample_rate, n_mfcc=40)\n",
    "print(mfccs.shape)\n",
    "print(mfccs)"
   ]
  },
  {
   "cell_type": "markdown",
   "metadata": {},
   "source": [
    "Vizuelizovaćemo dobijeni rezultat putem spektograma (eng. *spectogram*). Spektogram je vizuelni prikaz spektra frekvencija signala koji varira sa vremenom. Dobar način ilustrovanja spektograma jeste posmatrati ga kao složen prikaz periodograma preko nekog vremenskog intervala digitalnog signala. "
   ]
  },
  {
   "cell_type": "code",
   "execution_count": null,
   "metadata": {},
   "outputs": [],
   "source": [
    "librosa.display.specshow(mfccs, sr=librosa_sample_rate, x_axis=\"time\")"
   ]
  },
  {
   "cell_type": "code",
   "execution_count": null,
   "metadata": {},
   "outputs": [],
   "source": [
    "def extract_features(file_name):\n",
    "    try:\n",
    "        audio, sample_rate = librosa.load(file_name)\n",
    "        mfccs = librosa.feature.mfcc(y=audio, sr=sample_rate, n_mfcc=40)\n",
    "        mfccscaled = np.mean(mfccs.T, axis=0)\n",
    "    \n",
    "    except Exception as e:\n",
    "        print(\"Error encountered while parsing file: \", file_name)\n",
    "        return None\n",
    "    \n",
    "    return list(mfccscaled)"
   ]
  },
  {
   "cell_type": "code",
   "execution_count": null,
   "metadata": {},
   "outputs": [],
   "source": [
    "folder_path = \"data/audio/\"\n",
    "features = []\n",
    "\n",
    "for index, row in df.iterrows():\n",
    "    file_name = folder_path + row[\"slice_file_name\"]\n",
    "    \n",
    "    class_label = row[\"class\"]\n",
    "    data = extract_features(file_name)\n",
    "    features.append([file_name, data, class_label])"
   ]
  },
  {
   "cell_type": "code",
   "execution_count": null,
   "metadata": {},
   "outputs": [],
   "source": [
    "features_df = pd.DataFrame(features, columns=[\"file\", \"feature\", \"class_label\"])"
   ]
  },
  {
   "cell_type": "code",
   "execution_count": null,
   "metadata": {},
   "outputs": [],
   "source": [
    "features_df.head()"
   ]
  },
  {
   "cell_type": "markdown",
   "metadata": {},
   "source": [
    "##### Klasifikacija\n",
    "\n",
    "Prvi korak jeste da imena klasa konvertujemo u numeričke vrednosti. Za konverziju ćemo koristiti [Label Encoder](https://scikit-learn.org/stable/modules/generated/sklearn.preprocessing.LabelEncoder.html#sklearn.preprocessing.LabelEncoder). \n",
    "\n",
    "Nako konverzije, vršimo podelu skupa podataka na trening i validacioni."
   ]
  },
  {
   "cell_type": "code",
   "execution_count": null,
   "metadata": {},
   "outputs": [],
   "source": [
    "from sklearn.preprocessing import LabelEncoder\n",
    "from sklearn.model_selection import train_test_split"
   ]
  },
  {
   "cell_type": "code",
   "execution_count": null,
   "metadata": {},
   "outputs": [],
   "source": [
    "X = np.array(features_df.feature.tolist())\n",
    "y = np.array(features_df.class_label.tolist())\n",
    "\n",
    "le = LabelEncoder()\n",
    "yy = le.fit_transform(y)"
   ]
  },
  {
   "cell_type": "code",
   "execution_count": null,
   "metadata": {},
   "outputs": [],
   "source": [
    "x_train, x_test, y_train, y_test = train_test_split(X, yy, test_size=0.2, shuffle=True, random_state=42)"
   ]
  },
  {
   "cell_type": "markdown",
   "metadata": {},
   "source": [
    "#### SVM"
   ]
  },
  {
   "cell_type": "markdown",
   "metadata": {},
   "source": [
    "Kao prvi klasifikator, koristićemo SVM sa linearnim kernelom."
   ]
  },
  {
   "cell_type": "code",
   "execution_count": null,
   "metadata": {},
   "outputs": [],
   "source": [
    "from sklearn.svm import SVC\n",
    "from sklearn import metrics"
   ]
  },
  {
   "cell_type": "code",
   "execution_count": null,
   "metadata": {},
   "outputs": [],
   "source": [
    "model = SVC(kernel=\"linear\")\n",
    "model.fit(x_train, y_train)"
   ]
  },
  {
   "cell_type": "code",
   "execution_count": null,
   "metadata": {},
   "outputs": [],
   "source": [
    "y_pred_train = model.predict(x_train)\n",
    "print(\"Train Accuracy:\", metrics.accuracy_score(y_train, y_pred_train))\n",
    "\n",
    "y_pred_test = model.predict(x_test)\n",
    "print(\"Test Accuracy:\", metrics.accuracy_score(y_test, y_pred_test))"
   ]
  },
  {
   "cell_type": "markdown",
   "metadata": {},
   "source": [
    "Bolju interpretaciju rezultata na testnom skupu možemo dobiti generisanjem [Classification report-a](https://scikit-learn.org/stable/modules/generated/sklearn.metrics.classification_report.html#sklearn.metrics.classification_report). "
   ]
  },
  {
   "cell_type": "code",
   "execution_count": null,
   "metadata": {},
   "outputs": [],
   "source": [
    "print(metrics.classification_report(y_test, y_pred_test))"
   ]
  },
  {
   "cell_type": "markdown",
   "metadata": {},
   "source": [
    "Ukoliko želimo da vidimo stvarni naziv svake klase, potrebno je da prosledimo i mapiranja koja je generisao Label Encoder."
   ]
  },
  {
   "cell_type": "code",
   "execution_count": null,
   "metadata": {},
   "outputs": [],
   "source": [
    "print(metrics.classification_report(y_test, y_pred_test, target_names=le.classes_))"
   ]
  },
  {
   "cell_type": "markdown",
   "metadata": {},
   "source": [
    "##### Neuronska mreža"
   ]
  },
  {
   "cell_type": "markdown",
   "metadata": {},
   "source": [
    "Kao drugi klasifikator, koristićemo *feed-forward* neuronsku mrežu."
   ]
  },
  {
   "cell_type": "code",
   "execution_count": null,
   "metadata": {},
   "outputs": [],
   "source": [
    "from tensorflow import keras\n",
    "\n",
    "from keras.models import Sequential\n",
    "from keras.layers import Dense, Dropout, Activation, Flatten\n",
    "\n",
    "from tensorflow.keras.utils import to_categorical\n",
    "from tensorflow.keras.optimizers import Adam"
   ]
  },
  {
   "cell_type": "markdown",
   "metadata": {},
   "source": [
    "Prvi korak koji moramo da uradimo jeste konverzija labela (izlaza) u format pogodan za neuronsku mrežu (tj. klasa 1 će se konvertovati u [0, 1, 0, 0, 0, 0, 0, 0, 0, 0] itd.)."
   ]
  },
  {
   "cell_type": "code",
   "execution_count": null,
   "metadata": {},
   "outputs": [],
   "source": [
    "num_classes = 10\n",
    "y_train = to_categorical(y_train, num_classes=num_classes)\n",
    "y_test = to_categorical(y_test, num_classes=num_classes)"
   ]
  },
  {
   "cell_type": "code",
   "execution_count": null,
   "metadata": {},
   "outputs": [],
   "source": [
    "model = Sequential()\n",
    "\n",
    "model.add(Dense(256, input_shape=(40, )))\n",
    "model.add(Activation('relu'))\n",
    "model.add(Dropout(0.5))\n",
    "\n",
    "model.add(Dense(256))\n",
    "model.add(Activation('relu'))\n",
    "model.add(Dropout(0.5))\n",
    "\n",
    "model.add(Dense(num_classes))\n",
    "model.add(Activation('softmax'))"
   ]
  },
  {
   "cell_type": "code",
   "execution_count": null,
   "metadata": {},
   "outputs": [],
   "source": [
    "model.compile(loss='categorical_crossentropy', metrics=['accuracy'], optimizer='adam')"
   ]
  },
  {
   "cell_type": "markdown",
   "metadata": {},
   "source": [
    "Vizuelizacija našeg modela sa brojem parametara koje je potrebno \"istrenirati\"."
   ]
  },
  {
   "cell_type": "code",
   "execution_count": null,
   "metadata": {},
   "outputs": [],
   "source": [
    "model.summary()"
   ]
  },
  {
   "cell_type": "markdown",
   "metadata": {},
   "source": [
    "Kao pomoć prilikom treniranja možemo koristiti neki od [callback-ova iz Keras biblioteke](https://keras.io/callbacks/). U ovom slučaju, koristićemo **ModelCheckpoint** koji čuva model nakon svake epohe. Mi ćemo ga modifikovati tako da čuva samo poslednji najbolji model."
   ]
  },
  {
   "cell_type": "code",
   "execution_count": null,
   "metadata": {},
   "outputs": [],
   "source": [
    "from keras.callbacks import ModelCheckpoint\n",
    "from datetime import datetime\n",
    "\n",
    "num_epochs = 100\n",
    "batch_size = 32\n",
    "\n",
    "checkpointer = ModelCheckpoint(filepath=\"models/best_weights.hdf5\", verbose=1, save_best_only=True)\n",
    "\n",
    "start = datetime.now()\n",
    "model.fit(x_train, y_train, batch_size=batch_size, epochs=num_epochs, validation_data=(x_test, y_test), \n",
    "          callbacks=[checkpointer], verbose=1)\n",
    "\n",
    "duration = datetime.now() - start\n",
    "print(\"Training completed in: \", duration)"
   ]
  },
  {
   "cell_type": "code",
   "execution_count": null,
   "metadata": {},
   "outputs": [],
   "source": [
    "train_score = model.evaluate(x_train, y_train, verbose=1)\n",
    "print(\"Training Accuracy: \", train_score[1])"
   ]
  },
  {
   "cell_type": "code",
   "execution_count": null,
   "metadata": {},
   "outputs": [],
   "source": [
    "test_score = model.evaluate(x_test, y_test, verbose=1)\n",
    "print(\"Test Accuracy: \", test_score[1])"
   ]
  },
  {
   "cell_type": "markdown",
   "metadata": {},
   "source": [
    "Model neuronske mreže je ostvario manju trening tačnost, ali je ostvario veću tačnost na testnom skupu podataka od SVM modela. Možemo zaključiti da je model neuronske mreže bolje \"naučio\" da generalizuje na novim (nevidljivim) podacima."
   ]
  },
  {
   "cell_type": "code",
   "execution_count": null,
   "metadata": {},
   "outputs": [],
   "source": []
  }
 ],
 "metadata": {
  "kernelspec": {
   "display_name": "Python 3 (ipykernel)",
   "language": "python",
   "name": "python3"
  },
  "language_info": {
   "codemirror_mode": {
    "name": "ipython",
    "version": 3
   },
   "file_extension": ".py",
   "mimetype": "text/x-python",
   "name": "python",
   "nbconvert_exporter": "python",
   "pygments_lexer": "ipython3",
   "version": "3.10.13"
  }
 },
 "nbformat": 4,
 "nbformat_minor": 4
}
