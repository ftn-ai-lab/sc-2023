{
 "cells": [
  {
   "cell_type": "markdown",
   "metadata": {},
   "source": [
    "# Soft Computing\n",
    "\n",
    "## Vežba 1 - Digitalna slika, computer vision, OpenCV\n",
    "\n",
    "### OpenCV\n",
    "\n",
    "Open source biblioteka namenjena oblasti računarske vizije (eng. *computer vision*). Dokumentacija dostupna  [ovde](https://opencv.org/).\n",
    "\n",
    "### matplotlib\n",
    "\n",
    "Plotting biblioteka za programski jezik Python i njegov numerički paket NumPy. Dokumentacija dostupna [ovde](https://matplotlib.org/)."
   ]
  },
  {
   "cell_type": "markdown",
   "metadata": {},
   "source": [
    "### Učitavanje slike\n",
    "\n",
    "OpenCV metoda za učitavanje slike sa diska je <b>imread(path_to_image)</b>, koja kao parametar prima putanju do slike na disku. Učitana slika <i>img</i> je zapravo NumPy matrica, čije dimenzije zavise od same prirode slike. Ako je slika u boji, onda je <i>img</i> trodimenzionalna matrica, čije su prve dve dimenzije visina i širina slike, a treća dimenzija je veličine 3, zato što ona predstavlja boju (RGB, po jedan segment za svaku osnonvu boju)."
   ]
  },
  {
   "cell_type": "code",
   "execution_count": null,
   "metadata": {},
   "outputs": [],
   "source": [
    "import numpy as np\n",
    "import cv2 # OpenCV biblioteka\n",
    "import matplotlib\n",
    "import matplotlib.pyplot as plt  "
   ]
  },
  {
   "cell_type": "code",
   "execution_count": null,
   "metadata": {},
   "outputs": [],
   "source": [
    "# iscrtavanje slika i grafika unutar samog browsera\n",
    "%matplotlib inline \n",
    "# prikaz vecih slika \n",
    "matplotlib.rcParams['figure.figsize'] = 16,12"
   ]
  },
  {
   "cell_type": "code",
   "execution_count": null,
   "metadata": {},
   "outputs": [],
   "source": [
    "img = cv2.imread('images/girl.jpg') # ucitavanje slike sa diska\n",
    "plt.imshow(img)  # prikazivanje slike"
   ]
  },
  {
   "cell_type": "code",
   "execution_count": null,
   "metadata": {},
   "outputs": [],
   "source": [
    "img = cv2.cvtColor(img, cv2.COLOR_BGR2RGB) # konvertovanje iz BGR u RGB model boja (OpenCV ucita sliku kao BGR)\n",
    "plt.imshow(img)"
   ]
  },
  {
   "cell_type": "code",
   "execution_count": null,
   "metadata": {},
   "outputs": [],
   "source": [
    "img_hsv = cv2.cvtColor(img, cv2.COLOR_RGB2HSV) # konvertovanje iz RGB u HSV model boja\n",
    "plt.imshow(img_hsv)"
   ]
  },
  {
   "cell_type": "markdown",
   "metadata": {},
   "source": [
    "### Prikazivanje dimenzija slike"
   ]
  },
  {
   "cell_type": "code",
   "execution_count": null,
   "metadata": {},
   "outputs": [],
   "source": [
    "print(img.shape)  # shape je property Numpy array-a za prikaz dimenzija\n",
    "print(\"Visina slike: \", img.shape[0])\n",
    "print(\"Sirina slike: \", img.shape[1])\n",
    "print(\"Broj komponenti: \", img.shape[2])"
   ]
  },
  {
   "cell_type": "markdown",
   "metadata": {},
   "source": [
    "Obratiti pažnju da slika u boji ima 3 komponente za svaki piksel na slici - R (red), G (green) i B (blue).\n",
    "![images/cat_rgb.png](images/cat_rgb.png)"
   ]
  },
  {
   "cell_type": "code",
   "execution_count": null,
   "metadata": {},
   "outputs": [],
   "source": [
    "img"
   ]
  },
  {
   "cell_type": "markdown",
   "metadata": {},
   "source": [
    "Primetite da je svaki element matrice **uint8** (unsigned 8-bit integer), odnosno celobroja vrednost u intervalu [0, 255]."
   ]
  },
  {
   "cell_type": "code",
   "execution_count": null,
   "metadata": {},
   "outputs": [],
   "source": [
    "img.dtype"
   ]
  },
  {
   "cell_type": "markdown",
   "metadata": {},
   "source": [
    "### Osnovne operacije pomoću NumPy\n",
    "\n",
    "Predstavljanje slike kao NumPy array je vrlo korisna stvar, jer omogućava jednostavnu manipulaciju i izvršavanje osnovih operacija nad slikom."
   ]
  },
  {
   "cell_type": "markdown",
   "metadata": {},
   "source": [
    "#### Isecanje (crop)"
   ]
  },
  {
   "cell_type": "code",
   "execution_count": null,
   "metadata": {},
   "outputs": [],
   "source": [
    "img_crop = img[100:200, 300:600]  # prva koordinata je po visini (formalno red), druga po širini (formalo kolona)\n",
    "plt.imshow(img_crop) # \"najmanja vrednost\" koordinate visine se nalazi na vrhu, a najveca na dnu"
   ]
  },
  {
   "cell_type": "markdown",
   "metadata": {},
   "source": [
    "#### Okretanje (flip)"
   ]
  },
  {
   "cell_type": "code",
   "execution_count": null,
   "metadata": {},
   "outputs": [],
   "source": [
    "img_flip_h = img[:, ::-1]  # prva koordinata ostaje ista, a kolone se uzimaju unazad\n",
    "plt.imshow(img_flip_h)"
   ]
  },
  {
   "cell_type": "code",
   "execution_count": null,
   "metadata": {},
   "outputs": [],
   "source": [
    "img_flip_v = img[::-1, :]  # druga koordinata ostaje ista, a redovi se uzimaju unazad\n",
    "plt.imshow(img_flip_v)"
   ]
  },
  {
   "cell_type": "code",
   "execution_count": null,
   "metadata": {},
   "outputs": [],
   "source": [
    "img_flip_c = img[:, :, ::-1]  # možemo i izmeniti redosled boja (RGB->BGR)\n",
    "plt.imshow(img_flip_c)"
   ]
  },
  {
   "cell_type": "markdown",
   "metadata": {},
   "source": [
    "#### Invertovanje"
   ]
  },
  {
   "cell_type": "code",
   "execution_count": null,
   "metadata": {},
   "outputs": [],
   "source": [
    "img_inv = 255 - img  # ako su pikeli u intervalu [0,255] ovo je ok, a ako su u intervalu [0.,1.] onda bi bilo 1. - img\n",
    "plt.imshow(img_inv)"
   ]
  },
  {
   "cell_type": "markdown",
   "metadata": {},
   "source": [
    "### Konvertovanje iz RGB u \"grayscale\"\n",
    "\n",
    "Konvertovanjem iz RGB modela u nijanse sivih (grayscale) se gubi informacija o boji piksela na slici, ali sama slika postaje mnogo lakša za dalju obradu.\n",
    "\n",
    "Ovo se može uraditi na više načina:\n",
    "1. **Srednja vrednost** RGB komponenti - najjednostavnija varijanta $$ G = \\frac{R+G+B}{3} $$\n",
    "2. **Metod osvetljenosti** - srednja vrednost najjače i najslabije boje $$ G = \\frac{max(R,G,B) + min(R,G,B)}{2} $$\n",
    "3. **Metod perceptivne osvetljenosti** - težinska srednja vrednost koja uzima u obzir ljudsku percepciju (npr. najviše smo osetljivi na zelenu boju, pa to treba uzeti u obzir)$$ G = 0.21*R + 0.72*G + 0.07*B $$"
   ]
  },
  {
   "cell_type": "code",
   "execution_count": null,
   "metadata": {},
   "outputs": [],
   "source": [
    "# implementacija metode perceptivne osvetljenosti\n",
    "def my_rgb2gray(img_rgb):\n",
    "    img_gray = np.ndarray((img_rgb.shape[0], img_rgb.shape[1]))  # zauzimanje memorije za sliku (nema trece dimenzije)\n",
    "    img_gray = 0.21*img_rgb[:, :, 0] + 0.72*img_rgb[:, :, 1] + 0.07*img_rgb[:, :, 2]\n",
    "    img_gray = img_gray.astype('uint8')  # u prethodnom koraku smo mnozili sa float, pa sada moramo da vratimo u [0,255] opseg\n",
    "    return img_gray\n",
    "\n",
    "img_gray = my_rgb2gray(img)\n",
    "plt.imshow(img_gray, 'gray') # kada se prikazuje slika koja nije RGB, obavezno je staviti 'gray' kao drugi parametar"
   ]
  },
  {
   "cell_type": "markdown",
   "metadata": {},
   "source": [
    "Ipak je najbolje se držati implementacije u **OpenCV** biblioteci :)."
   ]
  },
  {
   "cell_type": "code",
   "execution_count": null,
   "metadata": {},
   "outputs": [],
   "source": [
    "img_gray = cv2.cvtColor(img, cv2.COLOR_RGB2GRAY)"
   ]
  },
  {
   "cell_type": "code",
   "execution_count": null,
   "metadata": {},
   "outputs": [],
   "source": [
    "img_gray.shape"
   ]
  },
  {
   "cell_type": "code",
   "execution_count": null,
   "metadata": {},
   "outputs": [],
   "source": [
    "plt.imshow(img_gray, 'gray')  "
   ]
  },
  {
   "cell_type": "code",
   "execution_count": null,
   "metadata": {},
   "outputs": [],
   "source": [
    "print(img_gray.shape)\n",
    "print(\"Visina slike: \", img_gray.shape[0])\n",
    "print(\"Sirina slike: \", img_gray.shape[1])\n",
    "print(\"Broj komponenti: 1\")"
   ]
  },
  {
   "cell_type": "markdown",
   "metadata": {},
   "source": [
    "### Histogram\n",
    "\n",
    "Histogram je grafički prikaz brojnosti piksela datog inteziteta. Daje nam informaciju o distribuciji osvetljenosti piksela.  \n",
    "\n",
    "Pseudo-kod histograma za grayscale sliku:  \n",
    "```code\n",
    "inicijalizovati nula vektor od 256 elemenata  \n",
    "\n",
    "za svaki piksel na slici:\n",
    "    preuzeti inicijalni intezitet piksela\n",
    "    uvecati za 1 broj piksela tog inteziteta\n",
    "\n",
    "plotovati histogram\n",
    "```"
   ]
  },
  {
   "cell_type": "code",
   "execution_count": null,
   "metadata": {},
   "outputs": [],
   "source": [
    "def hist(image):\n",
    "    height, width = image.shape[0:2]\n",
    "    x = range(0, 256)\n",
    "    y = np.zeros(256)\n",
    "    \n",
    "    for i in range(0, height):\n",
    "        for j in range(0, width):\n",
    "            pixel = image[i, j]\n",
    "            y[pixel] += 1\n",
    "    \n",
    "    return (x, y)\n",
    "\n",
    "x,y = hist(img_gray)\n",
    "plt.plot(x, y, 'b')\n",
    "plt.show()"
   ]
  },
  {
   "cell_type": "markdown",
   "metadata": {},
   "source": [
    "Koristeći **matplotlib**:"
   ]
  },
  {
   "cell_type": "code",
   "execution_count": null,
   "metadata": {},
   "outputs": [],
   "source": [
    "plt.hist(img_gray.ravel(), 255, [0, 255]) # .ravel() - prebacivanje visedimenzionalnog niza u jednodimenzionalni niz\n",
    "plt.show()"
   ]
  },
  {
   "cell_type": "markdown",
   "metadata": {},
   "source": [
    "Koristeći **OpenCV**:"
   ]
  },
  {
   "cell_type": "code",
   "execution_count": null,
   "metadata": {},
   "outputs": [],
   "source": [
    "hist_full = cv2.calcHist([img_gray], [0], None, [255], [0, 255])\n",
    "plt.plot(hist_full)\n",
    "plt.show()"
   ]
  },
  {
   "cell_type": "markdown",
   "metadata": {},
   "source": [
    "### Binarna slika\n",
    "\n",
    "Slika čiji pikseli imaju samo dve moguće vrednosti: crno i belo. U zavisnosti da li interval realan (float32) ili celobrojan (uint8), ove vrednosti mogu biti {0,1} ili {0,255}.\n",
    "\n",
    "U binarnoj slici često izdvajamo ono što nam je bitno (**foreground**), od ono što nam je nebitno (**background**). Formalnije, ovaj postupak izdvajanja bitnog od nebitnog na slici nazivamo **segmentacija**.\n",
    "\n",
    "Najčešći način dobijanja binarne slike je korišćenje nekog praga (**threshold**), pa ako je vrednost piksela veća od zadatog praga taj piksel dobija vrednost 1, u suprotnom 0. Postoji više tipova threshold-ovanja:\n",
    "\n",
    "1. Globalni threshold - isti prag se primenjuje na sve piksele\n",
    "2. Lokalni threshold - različiti pragovi za različite delove slike\n",
    "3. Adaptivni threshold - prag se ne određuje ručno (ne zadaje ga čovek), već kroz neki postupak. Može biti i globalni i lokalni."
   ]
  },
  {
   "cell_type": "markdown",
   "metadata": {},
   "source": [
    "#### Globalni threshold\n",
    "\n",
    "Kako izdvojiti, na primer, samo lice?"
   ]
  },
  {
   "cell_type": "code",
   "execution_count": null,
   "metadata": {},
   "outputs": [],
   "source": [
    "img_tr = img_gray > 127  # svi piskeli koji su veci od 127 ce dobiti vrednost True, tj. 1, i obrnuto\n",
    "plt.imshow(img_tr, 'gray')"
   ]
  },
  {
   "cell_type": "markdown",
   "metadata": {},
   "source": [
    "OpenCV ima metodu <b>threshold</b> koja:\n",
    "* kao prvi parametar prima sliku koja se binarizuje\n",
    "* kao drugi parametar prima prag binarizacije\n",
    "* za treći parametar ima vrednost rezultujućeg piksela ako je veći od praga (255=belo)\n",
    "* za poslednji parametar ima [tip thresholda](https://docs.opencv.org/4.4.0/d7/d1b/group__imgproc__misc.html#gaa9e58d2860d4afa658ef70a9b1115576) (u ovo slučaju je binarizacija)."
   ]
  },
  {
   "cell_type": "code",
   "execution_count": null,
   "metadata": {},
   "outputs": [],
   "source": [
    "ret, image_bin = cv2.threshold(img_gray, 100, 255, cv2.THRESH_BINARY) # ret je vrednost praga, image_bin je binarna slika\n",
    "print(ret)\n",
    "plt.imshow(image_bin, 'gray')"
   ]
  },
  {
   "cell_type": "markdown",
   "metadata": {},
   "source": [
    "#### Otsu threshold\n",
    "\n",
    "[Otsu metoda](https://en.wikipedia.org/wiki/Otsu%27s_method) se koristi za automatsko pronalaženje praga za threshold na slici. Prag se pronalazi na osnovu histograma.  \n",
    "\n",
    "Ideja: optimalan prag je obično u \"dolinama\" histograma."
   ]
  },
  {
   "cell_type": "code",
   "execution_count": null,
   "metadata": {},
   "outputs": [],
   "source": [
    "ret, image_bin = cv2.threshold(img_gray, 0, 255, cv2.THRESH_OTSU) # ret je izracunata vrednost praga, image_bin je binarna slika\n",
    "print(\"Otsu's threshold: \" + str(ret))\n",
    "plt.imshow(image_bin, 'gray')"
   ]
  },
  {
   "cell_type": "markdown",
   "metadata": {},
   "source": [
    "#### Adaptivni threshold\n",
    "\n",
    "U nekim slučajevima primena globalnog praga za threshold ne daje dobre rezultate. Dobar primer su slike na kojima se menja osvetljenje, gde globalni threshold praktično uništi deo slike koji je previše osvetljen ili zatamnjen.\n",
    "\n",
    "Adaptivni threshold je drugačiji pristup, gde se za svaki piksel na slici izračunava zaseban prag, na osnovu njemu okolnih piksela.  "
   ]
  },
  {
   "cell_type": "code",
   "execution_count": null,
   "metadata": {},
   "outputs": [],
   "source": [
    "image_ada = cv2.imread('images/sonnet.png')\n",
    "image_ada = cv2.cvtColor(image_ada, cv2.COLOR_BGR2GRAY)\n",
    "plt.imshow(image_ada, 'gray')"
   ]
  },
  {
   "cell_type": "code",
   "execution_count": null,
   "metadata": {},
   "outputs": [],
   "source": [
    "ret, image_ada_bin = cv2.threshold(image_ada, 100, 255, cv2.THRESH_BINARY)\n",
    "plt.imshow(image_ada_bin, 'gray')"
   ]
  },
  {
   "cell_type": "markdown",
   "metadata": {},
   "source": [
    "Loši rezultati su dobijeni upotrebom globalnog thresholda.  \n",
    "Poboljšavamo rezultate korišćenjem adaptivnog thresholda. \n",
    "\n",
    "Pretposlednji parametar metode [adaptiveThreshold](https://docs.opencv.org/4.4.0/d7/d4d/tutorial_py_thresholding.html) je ključan, jer predstavlja veličinu bloka susednih piksela (npr. 15x15) na osnovnu kojih se računa lokalni prag.\n",
    "\n",
    "Poslednji parametar predstavlja konstantnu vrednost, koja se oduzima od (ponderisane) srednje vrednosti izračunate za susedne piksele jednog bloka. Formula: $$T(x, y) = mean(pikseliBloka) - C$$ gde nam C predstavlja prethodno spomenutu konstantu."
   ]
  },
  {
   "cell_type": "code",
   "execution_count": null,
   "metadata": {},
   "outputs": [],
   "source": [
    "# adaptivni threshold gde se prag racuna = srednja vrednost okolnih piksela\n",
    "image_ada_bin = cv2.adaptiveThreshold(image_ada, 255, cv2.ADAPTIVE_THRESH_MEAN_C, cv2.THRESH_BINARY, 15, 5)\n",
    "plt.figure() # ako je potrebno da se prikaze vise slika u jednoj celiji\n",
    "plt.imshow(image_ada_bin, 'gray')\n",
    "\n",
    "# adaptivni threshold gde se prag racuna = tezinska suma okolnih piksela, gde su tezine iz gausove raspodele\n",
    "image_ada_bin = cv2.adaptiveThreshold(image_ada, 255, cv2.ADAPTIVE_THRESH_GAUSSIAN_C, cv2.THRESH_BINARY, 15, 5)\n",
    "plt.figure()\n",
    "plt.imshow(image_ada_bin, 'gray')"
   ]
  },
  {
   "cell_type": "markdown",
   "metadata": {},
   "source": [
    "### Konverovanje iz grayscale/binarne u RGB\n",
    "\n",
    "Ovo je zapravo trivijalna operacija koja za svaki kanal boje (RGB) napravi kopiju od originalne grayscale/binarne slike. Ovo je zgodno kada nešto što je urađeno u grayscale/binarnom modelu treba iskoristiti zajedno sa RGB slikom.\n",
    "\n",
    "Npr. pretpostavimo da su vrednosti piksela lica između 100 i 200."
   ]
  },
  {
   "cell_type": "code",
   "execution_count": null,
   "metadata": {},
   "outputs": [],
   "source": [
    "img_tr = (img_gray > 100) * (img_gray < 200)\n",
    "plt.imshow(img_tr, 'gray')"
   ]
  },
  {
   "cell_type": "code",
   "execution_count": null,
   "metadata": {},
   "outputs": [],
   "source": [
    "img_tr_rgb = cv2.cvtColor(img_tr.astype('uint8'), cv2.COLOR_GRAY2RGB)"
   ]
  },
  {
   "cell_type": "code",
   "execution_count": null,
   "metadata": {},
   "outputs": [],
   "source": [
    "plt.imshow(img*img_tr_rgb)  # množenje originalne RGB slike i slike sa izdvojenim pikselima lica"
   ]
  },
  {
   "cell_type": "markdown",
   "metadata": {
    "collapsed": true,
    "jupyter": {
     "outputs_hidden": true
    }
   },
   "source": [
    "### Morfološke operacije\n",
    "\n",
    "Veliki skup operacija za obradu digitalne slike, gde su te operacije zasnovane na oblicima, odnosno **strukturnim elementima**. U morfološkim operacijama, vrednost svakog piksela rezultujuće slike se zasniva na poređenju odgovarajućeg piksela na originalnoj slici sa svojom okolinom. Veličina i oblik ove okoline predstavljaju strukturni element."
   ]
  },
  {
   "cell_type": "code",
   "execution_count": null,
   "metadata": {},
   "outputs": [],
   "source": [
    "kernel = np.ones((3, 3)) # strukturni element 3x3 blok\n",
    "print(kernel)"
   ]
  },
  {
   "cell_type": "markdown",
   "metadata": {},
   "source": [
    "#### Erozija\n",
    "\n",
    "Morfološka erozija postavlja vrednost piksela rez. slike na ```(i,j)``` koordinatama na **minimalnu** vrednost svih piksela u okolini ```(i,j)``` piksela na orig. slici.\n",
    "\n",
    "U suštini erozija umanjuje regione belih piksela, a uvećava regione crnih piksela. Često se koristi za uklanjanje šuma (u vidu sitnih regiona belih piksela).\n",
    "\n",
    "![images/erosion.gif](images/erosion.gif)"
   ]
  },
  {
   "cell_type": "code",
   "execution_count": null,
   "metadata": {},
   "outputs": [],
   "source": [
    "plt.figure()\n",
    "plt.imshow(cv2.erode(image_bin, kernel, iterations=1), 'gray')\n",
    "plt.figure()\n",
    "plt.imshow(cv2.erode(image_bin, kernel, iterations=3), 'gray')\n",
    "plt.figure()\n",
    "plt.imshow(cv2.erode(image_bin, kernel, iterations=5), 'gray')"
   ]
  },
  {
   "cell_type": "markdown",
   "metadata": {},
   "source": [
    "#### Dilacija\n",
    "\n",
    "Morfološka dilacija postavlja vrednost piksela rez. slike na ```(i,j)``` koordinatama na **maksimalnu** vrednost svih piksela u okolini ```(i,j)``` piksela na orig. slici.\n",
    "\n",
    "U suštini dilacija uvećava regione belih piksela, a umanjuje regione crnih piksela. Zgodno za izražavanje regiona od interesa.\n",
    "\n",
    "![images/dilation.gif](images/dilation.gif)"
   ]
  },
  {
   "cell_type": "code",
   "execution_count": null,
   "metadata": {},
   "outputs": [],
   "source": [
    "# drugaciji strukturni element\n",
    "kernel = cv2.getStructuringElement(cv2.MORPH_CROSS, (5,5)) # MORPH_ELIPSE, MORPH_RECT\n",
    "print(kernel)"
   ]
  },
  {
   "cell_type": "code",
   "execution_count": null,
   "metadata": {},
   "outputs": [],
   "source": [
    "plt.figure()\n",
    "plt.imshow(cv2.dilate(image_bin, kernel, iterations=1), 'gray')\n",
    "plt.figure()\n",
    "plt.imshow(cv2.dilate(image_bin, kernel, iterations=3), 'gray')\n",
    "plt.figure()\n",
    "plt.imshow(cv2.dilate(image_bin, kernel, iterations=5), 'gray')"
   ]
  },
  {
   "cell_type": "markdown",
   "metadata": {},
   "source": [
    "#### Otvaranje i zatvaranje\n",
    "\n",
    "**```otvaranje = erozija + dilacija```**, uklanjanje šuma erozijom i vraćanje originalnog oblika dilacijom.\n",
    "\n",
    "**```zatvaranje = dilacija + erozija```**, zatvaranje sitnih otvora među belim pikselima"
   ]
  },
  {
   "cell_type": "code",
   "execution_count": null,
   "metadata": {},
   "outputs": [],
   "source": [
    "kernel = cv2.getStructuringElement(cv2.MORPH_ELLIPSE, (5, 5))\n",
    "print(kernel)\n",
    "img_ero = cv2.erode(image_bin, kernel, iterations=1)\n",
    "img_open = cv2.dilate(img_ero, kernel, iterations=1)\n",
    "plt.imshow(img_open, 'gray')"
   ]
  },
  {
   "cell_type": "code",
   "execution_count": null,
   "metadata": {},
   "outputs": [],
   "source": [
    "img_dil = cv2.dilate(image_bin, kernel, iterations=1)\n",
    "img_close = cv2.erode(img_dil, kernel, iterations=1)\n",
    "plt.imshow(img_close, 'gray')"
   ]
  },
  {
   "cell_type": "markdown",
   "metadata": {},
   "source": [
    "**```detekcija ivica = dilacija - erozija (ili obrnuto)```**, Primer detekcije ivica na binarnoj slici korišćenjem dilacije i erozije:"
   ]
  },
  {
   "cell_type": "code",
   "execution_count": null,
   "metadata": {},
   "outputs": [],
   "source": [
    "kernel = cv2.getStructuringElement(cv2.MORPH_ELLIPSE, (3, 3))\n",
    "image_edges = cv2.dilate(image_bin, kernel, iterations=1) - cv2.erode(image_bin, kernel, iterations=1)\n",
    "plt.imshow(image_edges, 'gray')"
   ]
  },
  {
   "cell_type": "markdown",
   "metadata": {},
   "source": [
    "OpenCV [alternativa](https://docs.opencv.org/4.4.0/d9/d61/tutorial_py_morphological_ops.html)."
   ]
  },
  {
   "cell_type": "markdown",
   "metadata": {},
   "source": [
    "### Zamućenje (blur)\n",
    "\n",
    "Zamućenje slike se dobija tako što se za svaki piksel slike kao nova vrednost uzima srednja vrednost okolnih piksela, recimo u okolini 5 x 5. Kernel <b>k</b> predstavlja kernel za <i>uniformno zamućenje</i>. Ovo je jednostavnija verzija <a href=\"https://en.wikipedia.org/wiki/Gaussian_blur\">Gausovskog zamućenja</a>.\n",
    "\n",
    "<img src=\"https://render.githubusercontent.com/render/math?math=k%285x5%29%3D%0A%20%20%5Cbegin%7Bbmatrix%7D%0A%20%20%20%201%2F25%20%26amp%3B%201%2F25%20%26amp%3B%201%2F25%20%26amp%3B%201%2F25%20%26amp%3B%201%2F25%20%5C%5C%0A%20%20%20%201%2F25%20%26amp%3B%201%2F25%20%26amp%3B%201%2F25%20%26amp%3B%201%2F25%20%26amp%3B%201%2F25%20%5C%5C%0A%20%20%20%201%2F25%20%26amp%3B%201%2F25%20%26amp%3B%201%2F25%20%26amp%3B%201%2F25%20%26amp%3B%201%2F25%20%5C%5C%0A%20%20%20%201%2F25%20%26amp%3B%201%2F25%20%26amp%3B%201%2F25%20%26amp%3B%201%2F25%20%26amp%3B%201%2F25%20%5C%5C%0A%20%20%20%201%2F25%20%26amp%3B%201%2F25%20%26amp%3B%201%2F25%20%26amp%3B%201%2F25%20%26amp%3B%201%2F25%0A%20%20%5Cend%7Bbmatrix%7D&mode=display\">"
   ]
  },
  {
   "cell_type": "code",
   "execution_count": null,
   "metadata": {},
   "outputs": [],
   "source": [
    "from scipy import signal\n",
    "\n",
    "k_size = 5\n",
    "k = (1./k_size*k_size) * np.ones((k_size, k_size))\n",
    "image_blur = signal.convolve2d(img_gray, k)\n",
    "plt.imshow(image_blur, 'gray')"
   ]
  },
  {
   "cell_type": "markdown",
   "metadata": {},
   "source": [
    "### Kontrast i osvetljenje slike\n",
    "\n",
    "Kontrast i osvetljenje slike možemo podešavati pomoću metode <a href=\"https://www.tutorialspoint.com/how-to-change-the-contrast-and-brightness-of-an-image-using-opencv-in-python\"><b>convertScaleAbs</b></a> iz openCV biblioteke.\n",
    "\n",
    "Poziv metode izgleda ovako: <i><b>adjusted = cv2.convertScaleAbs(image, alpha=alpha, beta=beta)</b></i>, a argumenti su:\n",
    "* <b>image</b> predstavlja učitanu sliku pomoću cv2.imread metode\n",
    "* <b>alpha</b> predstavlja vrednost kontrasta. Ako želimo da <b>smanjimo</b> kontrast, koristićemo vrednosti 0 < alpha < 1, a ako želimo da ga <b>povećamo</b>, koristićemo vrednosti > 1\n",
    "* <b>beta</b> predstavlja vrednost osvetljenja. Preporučljiv opseg vrednosti je između [-127, 127]"
   ]
  },
  {
   "cell_type": "code",
   "execution_count": null,
   "metadata": {},
   "outputs": [],
   "source": [
    "plt.imshow(img)"
   ]
  },
  {
   "cell_type": "code",
   "execution_count": null,
   "metadata": {},
   "outputs": [],
   "source": [
    "alpha = 1.5\n",
    "img_higher_contrast = cv2.convertScaleAbs(img, alpha=alpha)\n",
    "plt.imshow(img_higher_contrast)"
   ]
  },
  {
   "cell_type": "code",
   "execution_count": null,
   "metadata": {},
   "outputs": [],
   "source": [
    "alpha = 0.5\n",
    "img_lower_contrast = cv2.convertScaleAbs(img, alpha=alpha)\n",
    "plt.imshow(img_lower_contrast)"
   ]
  },
  {
   "cell_type": "code",
   "execution_count": null,
   "metadata": {},
   "outputs": [],
   "source": [
    "beta = 20\n",
    "img_higher_brightness = cv2.convertScaleAbs(img, beta=beta)\n",
    "plt.imshow(img_higher_brightness)"
   ]
  },
  {
   "cell_type": "code",
   "execution_count": null,
   "metadata": {},
   "outputs": [],
   "source": [
    "beta = -20\n",
    "img_lower_brightness = cv2.convertScaleAbs(img, beta=beta)\n",
    "plt.imshow(img_lower_brightness)"
   ]
  },
  {
   "cell_type": "code",
   "execution_count": null,
   "metadata": {},
   "outputs": [],
   "source": [
    "alpha = 2\n",
    "beta = 30\n",
    "img_changed = cv2.convertScaleAbs(img, alpha=alpha, beta=beta)\n",
    "plt.imshow(img_changed)"
   ]
  },
  {
   "cell_type": "markdown",
   "metadata": {},
   "source": [
    "### Regioni i izdvajanje regiona\n",
    "\n",
    "Najjednostavnije rečeno, region je skup međusobno povezanih belih piksela. Kada se kaže povezanih, misli se na to da se nalaze u neposrednoj okolini. Razlikuju se dve vrste povezanosti: tzv. **4-connectivity** i **8-connectivity**:\n",
    "\n",
    "![images/48connectivity.png](images/48connectivity.png)\n",
    "\n",
    "Postupak kojim se izdvajanju/obeležavaju regioni se naziva **connected components labelling**. Ovo ćemo primeniti na problemu izdvajanja barkoda."
   ]
  },
  {
   "cell_type": "code",
   "execution_count": null,
   "metadata": {},
   "outputs": [],
   "source": [
    "# ucitavanje slike i convert u RGB\n",
    "img_barcode = cv2.cvtColor(cv2.imread('images/barcode.jpg'), cv2.COLOR_BGR2RGB)\n",
    "plt.imshow(img_barcode)"
   ]
  },
  {
   "cell_type": "markdown",
   "metadata": {},
   "source": [
    "Recimo da želimo da izdvojimo samo linije barkoda sa slike.\n",
    "\n",
    "Za početak, uradimo neke standardne operacije, kao što je konvertovanje u grayscale i binarni threshold."
   ]
  },
  {
   "cell_type": "code",
   "execution_count": null,
   "metadata": {},
   "outputs": [],
   "source": [
    "img_barcode_gs = cv2.cvtColor(img_barcode, cv2.COLOR_RGB2GRAY) # konvert u grayscale\n",
    "plt.imshow(img_barcode_gs, 'gray')"
   ]
  },
  {
   "cell_type": "code",
   "execution_count": null,
   "metadata": {},
   "outputs": [],
   "source": [
    "ret, image_barcode_bin = cv2.threshold(img_barcode_gs, 80, 255, cv2.THRESH_BINARY)\n",
    "plt.imshow(image_barcode_bin, 'gray')"
   ]
  },
  {
   "cell_type": "markdown",
   "metadata": {},
   "source": [
    "Pokušaćemo i sa adaptivnim thresholdom."
   ]
  },
  {
   "cell_type": "code",
   "execution_count": null,
   "metadata": {},
   "outputs": [],
   "source": [
    "image_barcode_bin = cv2.adaptiveThreshold(img_barcode_gs, 255, cv2.ADAPTIVE_THRESH_MEAN_C, cv2.THRESH_BINARY, 35, 10)\n",
    "plt.imshow(image_barcode_bin, 'gray')"
   ]
  },
  {
   "cell_type": "markdown",
   "metadata": {},
   "source": [
    "### Pronalaženje kontura/regiona\n",
    "\n",
    "Konture, odnosno regioni na slici su grubo rečeno grupe crnih piksela. OpenCV metoda [**findContours**](https://docs.opencv.org/4.4.0/d3/dc0/group__imgproc__shape.html#gadf1ad6a0b82947fa1fe3c3d497f260e0) pronalazi sve ove grupe crnih piksela, tj. regione. Prva povratna vrednost metode, odnosno *contours*, je lista pronađenih kontura na slici.\n",
    "\n",
    "Ove konture je zaim moguće iscrtati metodom [**drawContours**](https://docs.opencv.org/4.4.0/d6/d6e/group__imgproc__draw.html#ga746c0625f1781f1ffc9056259103edbc), gde je: \n",
    "* prvi parametar slika na kojoj se iscrtavaju pronađene konture \n",
    "* drugi parametar lista kontura koje je potrebno iscrtati\n",
    "* treći parametar određuje koju konturu po redosledu iscrtati (-1 znači iscrtavanje svih kontura)\n",
    "* četvrti parametar je boja kojom će se obeležiti kontura\n",
    "* poslednji parametar je debljina linije."
   ]
  },
  {
   "cell_type": "code",
   "execution_count": null,
   "metadata": {},
   "outputs": [],
   "source": [
    "contours, hierarchy = cv2.findContours(image_barcode_bin, cv2.RETR_LIST, cv2.CHAIN_APPROX_SIMPLE)\n",
    "\n",
    "img = img_barcode.copy()\n",
    "cv2.drawContours(img, contours, -1, (255, 0, 0), 1)\n",
    "plt.imshow(img)"
   ]
  },
  {
   "cell_type": "markdown",
   "metadata": {},
   "source": [
    "#### Osobine regiona\n",
    "\n",
    "Svi pronađeni regioni imaju neke svoje karakteristične osobine: površina, obim, konveksni omotač, konveksnost, obuhvatajući pravougaonik, ugao...  \n",
    "\n",
    "Ove osobine mogu biti izuzetno korisne kada je neophodno izdvojiti samo određene regione sa slike koji ispoljavaju neku osobinu.  \n",
    "\n",
    "Za sve osobine pogledati [ovo](https://docs.opencv.org/4.4.0/dd/d49/tutorial_py_contour_features.html) i [ovo](https://docs.opencv.org/4.4.0/d1/d32/tutorial_py_contour_properties.html).\n",
    "\n",
    "Izdvajamo samo bar-kod sa slike."
   ]
  },
  {
   "cell_type": "code",
   "execution_count": null,
   "metadata": {},
   "outputs": [],
   "source": [
    "contours_barcode = [] # ovde ce biti samo konture koje pripadaju bar-kodu\n",
    "\n",
    "for contour in contours: # za svaku konturu\n",
    "    center, size, angle = cv2.minAreaRect(contour) # pronadji pravougaonik minimalne povrsine koji ce obuhvatiti celu konturu\n",
    "    height, width = size\n",
    "\n",
    "    if width > 3 and width < 30 and height > 300 and height < 400: # uslov da kontura pripada bar-kodu\n",
    "        contours_barcode.append(contour) # ova kontura pripada bar-kodu\n",
    "\n",
    "img = img_barcode.copy()\n",
    "cv2.drawContours(img, contours_barcode, -1, (255, 0, 0), 1)\n",
    "plt.imshow(img)"
   ]
  },
  {
   "cell_type": "code",
   "execution_count": null,
   "metadata": {},
   "outputs": [],
   "source": [
    "print('Ukupan broj regiona: %d' % len(contours_barcode))"
   ]
  },
  {
   "cell_type": "markdown",
   "metadata": {},
   "source": [
    "Naravno, u ogromnom broj slučajeva odnos visine i širine neće biti dovoljan, već se moraju koristiti i ostale osobine (na primer, prethodni primer se može rešiti posmatranjem pozicije centara svih prisutnih kontura)."
   ]
  },
  {
   "cell_type": "markdown",
   "metadata": {},
   "source": [
    "## Zadaci\n",
    "\n",
    "1. Sa slike barkoda (**images/barcode.jpg**) izdvojiti samo brojeve i slova, bez linija barkoda.\n",
    "\n",
    "\n",
    "2. Sa slike sa sijalicama (**images/bulbs.jpg**) prebrojati koliko ima sijalica.    \n",
    "\n",
    "\n",
    "3. Na slici sa snouborderima (**images/snowboarders.jpg**) prebrojati koliko ima snoubordera.  \n",
    "\n",
    "\n",
    "4. Na slici sa fudbalerima (**images/football.jpg**) izdvojiti samo one fudbalere u belim dresovima.  \n",
    "\n",
    "\n",
    "5. Na slici sa crvenim krvnim zrncima (**images/bloodcells.jpg**), prebrojati koliko ima crvenih krvnih zrnaca."
   ]
  },
  {
   "cell_type": "code",
   "execution_count": null,
   "metadata": {},
   "outputs": [],
   "source": []
  }
 ],
 "metadata": {
  "kernelspec": {
   "display_name": "Python 3 (ipykernel)",
   "language": "python",
   "name": "python3"
  },
  "language_info": {
   "codemirror_mode": {
    "name": "ipython",
    "version": 3
   },
   "file_extension": ".py",
   "mimetype": "text/x-python",
   "name": "python",
   "nbconvert_exporter": "python",
   "pygments_lexer": "ipython3",
   "version": "3.10.13"
  }
 },
 "nbformat": 4,
 "nbformat_minor": 4
}
