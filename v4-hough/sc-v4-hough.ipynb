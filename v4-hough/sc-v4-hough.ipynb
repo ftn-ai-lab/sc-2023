{
 "cells": [
  {
   "cell_type": "markdown",
   "metadata": {},
   "source": [
    "# Soft Computing\n",
    "\n",
    "## Vežba 5 - Hough transformacija"
   ]
  },
  {
   "cell_type": "markdown",
   "metadata": {},
   "source": [
    "## Detekcija ivica\n",
    "\n",
    "\n",
    "Cilj detekcije ivica jeste identifikovanje značajnih obeležja na slici, odnosno važnih lokalnih oblika koji će nam pomoći da prepoznamo oblike na slici. Primeri ovakvih obeležja su: ivice, geometrijski oblici (linije, kružnice...), uglovi, domenski specifični oblici itd. \n",
    "\n",
    "Konvertujemo 2D sliku u skup krivih, što nam omogućava da pronađemo istaknuta obeležja scene i time dobijemo reprezentaciju slike kompaktniju od reprezentacije slike putem njenih piksela.\n",
    "\n",
    "Pogled iz teorije informacija (eng. *information theory*): ivice kodiraju promenu, a promene su teške za  predviđanje. Zato ivice efikasno kodiraju sliku.\n",
    "\n",
    "Postoji više operatora za detekciju ivica.\n",
    "\n",
    "\n",
    "### Canny \n",
    "\n",
    "\n",
    "Canny detektor ivica (eng. *Canny edge detector*) je razvijen od strane *John F. Canny*-ja 1986. godine. Dizajniran je da bude optimalan detektor ivica:\n",
    "* dobra detekcija - reaguje na ivice a ne na šum;\n",
    "* dobra lokalizacija - detektovana ivica je blizu stvarne;\n",
    "* minimalan odgovor - jedan po ivici.\n",
    "\n",
    "Postupak:\n",
    "\n",
    "1. Uklanjanje šuma\n",
    "    * izglađivanje (eng. *smoothing*) Gausovim operatorom.\n",
    "2. Računanje pravca i orijentacije gradijenta\n",
    "    * jednostavan operator;\n",
    "    * ivice na ulaznoj slici će rezultovati grebenima na izlaznoj slici.\n",
    "3. Non-maximum suppression\n",
    "    * obezbeđuje minimalan odgovor tako što \"istanjuje\" linije izlaza;\n",
    "    * ivica se nalazi tamo gde je gradijent najveći;\n",
    "    * algoritam ide po grebenimai (eng. *ridge tracker*) i postavlja na 0 sve piksele koji nisu na vrhu grebena.\n",
    "4. Primena dva praga.\n",
    "\n",
    "Implementacija u [OpenCV](https://docs.opencv.org/4.4.0/dd/d1a/group__imgproc__feature.html#ga04723e007ed888ddf11d9ba04e2232de) biblioteci i prateći  [tutorial](https://docs.opencv.org/4.4.0/da/d22/tutorial_py_canny.html)\n",
    "\n",
    "\n",
    "<img src=\"images/xfiles.png\">"
   ]
  },
  {
   "cell_type": "markdown",
   "metadata": {},
   "source": [
    "## Hough transformacija\n",
    "\n",
    "Hough transformacija je tehnika za izdvajanje osobina (eng. *feature extraction*) koja se koristi u analizi slike (eng. *image analysis*), računarskoj viziji (eng. *computer vision*) i digitalnoj obradi slike (eng. *digital image processing*). \"Klasična\" Hough transformacija se odnosila na identifikaciju linija na slici, ali je kasnije proširena na identifikovanje pozicije proizvoljnih obilika. Hough transformaciju koja je danas u najširoj upotrebi razvili su *Richard Duda* i *Peter Hart* 1972. godine oslanjajući se na patent *Paul Hough*-a iz 1962. godine. Transformacija je stekla popularnost zahvaljujući radu <a href=\"https://www.cs.utexas.edu/~dana/HoughT.pdf\">Generalizing the Hough transform to detect arbitrary shapes</a> iz 1981. godine.\n",
    "\n",
    "Algoritam:\n",
    "\n",
    "1. Detekcija ivica;\n",
    "2. Mapiranje piksela sa ivica na Hough prostor i snimanje u akumulator (eng. *accumulator*);\n",
    "3. Interpretacija akumulatora (pronalaženje beskonačnih linija);\n",
    "4. Konverzija beskonačnih linija u konačne\n",
    "    * Hough transformacija ne vraća nikakve informacije o dužini linije - sve detektovane linije su beskonačne;\n",
    "    * za linije konačne dužine potrebna je dodatna analiza;\n",
    "    * *Probabilistic Hough Transform* - vršimo pretragu duž beskonačnih linija na binarnoj slici (sa konturama).\n",
    "\n",
    "<img src=\"images/hough.png\">\n",
    "\n",
    "U OpenCV biblioteci:\n",
    "* [HoughLines()](https://docs.opencv.org/4.4.0/dd/d1a/group__imgproc__feature.html#ga46b4e588934f6c8dfd509cc6e0e4545a)\n",
    "* [HoughLinesP()](https://docs.opencv.org/4.4.0/dd/d1a/group__imgproc__feature.html#ga8618180a5948286384e3b7ca02f6feeb)\n",
    "* [HoughLinesPointSet()](https://docs.opencv.org/4.4.0/dd/d1a/group__imgproc__feature.html#ga2858ef61b4e47d1919facac2152a160e)\n",
    "* [HoughCircles()](https://docs.opencv.org/4.4.0/dd/d1a/group__imgproc__feature.html#ga47849c3be0d0406ad3ca45db65a25d2d)"
   ]
  },
  {
   "cell_type": "markdown",
   "metadata": {},
   "source": [
    "## Zadatak - Sabiranje cifara\n",
    "\n",
    "* Svaki video zapis (širine 640, a visine 480 piskela) iz **data/z1/videos/** poseduje:\n",
    "    * jednu liniju koja se uvek nalazi na istoj poziciji i uvek je iste boje;\n",
    "    * pokretne cifre, koje predstavljaju modifikovane cifre iz MNIST skupa podataka.\n",
    "* Potrebno je izvršiti sabiranje svih cifara koje pređu preko linije. \n",
    "* Izračunati [mean absolute percentage error](https://en.wikipedia.org/wiki/Mean_absolute_percentage_error) koristeći dobijene vrednosti i tačne vrednosti iz **data/z1/res.txt**\n",
    "\n",
    "Demo: **data/z1/demo.avi**.\n",
    "\n",
    "Rad sa videom u [OpenCV](https://docs.opencv.org/4.4.0/d8/dfe/classcv_1_1VideoCapture.html) biblioteci."
   ]
  },
  {
   "cell_type": "code",
   "execution_count": null,
   "metadata": {},
   "outputs": [],
   "source": [
    "import numpy as np\n",
    "import cv2\n",
    "from sklearn import datasets\n",
    "import matplotlib.pyplot as plt\n",
    "%matplotlib inline"
   ]
  },
  {
   "cell_type": "markdown",
   "metadata": {},
   "source": [
    "Pošto su cifre u originalnom MNIST skupu podataka dimenzija 28x28, mi ćemo sve naše slike cifara skalirati na 28x28. **scikit-learn** nam omogućava dobavljanje MNIST skupa podataka koji ćemo iskoristiti kako bi trenirali naš klasifikator za prepoznavanje cifara. Za izdvajanje osobina sa slika iz MNIST skupa podataka koristimo HOG. "
   ]
  },
  {
   "cell_type": "code",
   "execution_count": null,
   "metadata": {},
   "outputs": [],
   "source": [
    "def get_hog():\n",
    "    # Racunanje HOG deskriptora za slike iz MNIST skupa podataka\n",
    "    img_size = (28, 28)\n",
    "    nbins = 9\n",
    "    cell_size = (8, 8)\n",
    "    block_size = (2, 2)\n",
    "    hog = cv2.HOGDescriptor(_winSize=(img_size[1] // cell_size[1] * cell_size[1],\n",
    "                                      img_size[0] // cell_size[0] * cell_size[0]),\n",
    "                            _blockSize=(block_size[1] * cell_size[1],\n",
    "                                        block_size[0] * cell_size[0]),\n",
    "                            _blockStride=(cell_size[1], cell_size[0]),\n",
    "                            _cellSize=(cell_size[1], cell_size[0]),\n",
    "                            _nbins=nbins)\n",
    "    return hog"
   ]
  },
  {
   "cell_type": "markdown",
   "metadata": {},
   "source": [
    "Treniranje klasifikatora po izboru na MNIST skupu podataka."
   ]
  },
  {
   "cell_type": "code",
   "execution_count": null,
   "metadata": {},
   "outputs": [],
   "source": [
    "from sklearn.svm import LinearSVC\n",
    "from sklearn.metrics import accuracy_score\n",
    "\n",
    "def train_classifier(hog_descriptor):\n",
    "    # Treniranje klasifikatora na MNIST skupu podataka\n",
    "    print(\"Učitavanje MNIST skupa podataka...\")\n",
    "    X, y = datasets.fetch_openml(\"mnist_784\", version=1, return_X_y=True)\n",
    "    features = np.array(X, 'uint8')\n",
    "    labels = np.array(y, 'int')\n",
    "    \n",
    "    print(\"Priprema podataka...\")\n",
    "    x = []\n",
    "    for feature in features:\n",
    "        x.append(hog_descriptor.compute(feature.reshape(28, 28)))\n",
    "    x = np.array(x, 'float32')\n",
    "    \n",
    "    print(\"Treniranje klasifikatora...\")\n",
    "    classifier = LinearSVC()\n",
    "    classifier.fit(x, labels)\n",
    "    y_train_pred = classifier.predict(x)\n",
    "    print(\"Train accuracy: \", accuracy_score(labels, y_train_pred))\n",
    "    \n",
    "    return classifier"
   ]
  },
  {
   "cell_type": "markdown",
   "metadata": {},
   "source": [
    "Detekciju konačnih linija vršimo pomoću probabilističke Hough transformacije.  \n",
    "Iskoristićemo Canny za detekciju ivica."
   ]
  },
  {
   "cell_type": "code",
   "execution_count": null,
   "metadata": {},
   "outputs": [],
   "source": [
    "def detect_line(img):\n",
    "    # detekcija koordinata linije koristeci Hough transformaciju\n",
    "    gray_img = cv2.cvtColor(img, cv2.COLOR_BGR2GRAY)\n",
    "    edges_img = cv2.Canny(gray_img, 50, 150, apertureSize=3)\n",
    "    plt.imshow(edges_img, \"gray\")\n",
    "    \n",
    "    # minimalna duzina linije\n",
    "    min_line_length = 200\n",
    "    \n",
    "    # Hough transformacija\n",
    "    lines = cv2.HoughLinesP(image=edges_img, rho=1, theta=np.pi/180, threshold=10, lines=np.array([]),\n",
    "                            minLineLength=min_line_length, maxLineGap=20)\n",
    "    \n",
    "    print(\"Detektovane linije [[x1 y1 x2 y2]]: \\n\", lines)\n",
    "    \n",
    "    x1 = lines[0][0][0]\n",
    "    y1 = 480 - lines[0][0][1]\n",
    "    x2 = lines[0][0][2]\n",
    "    y2 = 480 - lines[0][0][3]\n",
    "    \n",
    "    return (x1, y1, x2, y2)"
   ]
  },
  {
   "cell_type": "markdown",
   "metadata": {},
   "source": [
    "Video procesiramo frejm (eng. *frame*) po frejm. \n",
    "\n",
    "Potrebno je da utvrdimo jednačinu prave $y=k\\cdot x+n$ i da pronađemo krajnje tačke linije kako bi mogli da radimo proveru da li je cifra prešla preko linije. "
   ]
  },
  {
   "cell_type": "code",
   "execution_count": null,
   "metadata": {},
   "outputs": [],
   "source": [
    "def get_line_params(line_coords):\n",
    "    k = (float(line_coords[3]) - float(line_coords[1])) / (float(line_coords[2]) - float(line_coords[0]))\n",
    "    n = k * (float(-line_coords[0])) + float(line_coords[1])\n",
    "    return k, n"
   ]
  },
  {
   "cell_type": "markdown",
   "metadata": {},
   "source": [
    "Pored toga, potrebno je pronaći regione koji predstavljaju cifre kako bi pomoću klasifikatora utvrdili o kojoj se cifri radi, kako bi je \"sabrali\" ako se radi o cifri koja je prešla preko linije.\n",
    "\n",
    "Implementiramo pomoćnu metodu za detekciju prelaska broja preko linije."
   ]
  },
  {
   "cell_type": "code",
   "execution_count": null,
   "metadata": {},
   "outputs": [],
   "source": [
    "def detect_cross(x, y, k, n):\n",
    "    # detekcija da li je broj presao preko linije\n",
    "    yy = k*x + n\n",
    "    \n",
    "    return -0.5 <= (yy - y) <= 1"
   ]
  },
  {
   "cell_type": "markdown",
   "metadata": {},
   "source": [
    "Sledeći korak je implementacija metode za procesiranje videa, koja će:\n",
    "* procesirati video frejm po frejm\n",
    "* izdvojiti regione koji predstavljaju cifre i skalirati ih na 28 x 28;\n",
    "* izdvojiti osobine koristeći HOG;\n",
    "* uz pomoć klasifikatora odrediti o kojoj se cifri radi, i \"sabrati\" je ako je prešla preko linije."
   ]
  },
  {
   "cell_type": "code",
   "execution_count": null,
   "metadata": {},
   "outputs": [],
   "source": [
    "def process_video(video_path, hog_descriptor, classifier):\n",
    "    # procesiranje jednog videa\n",
    "    sum_of_nums = 0\n",
    "    k = 0\n",
    "    n = 0\n",
    "    \n",
    "    # ucitavanje videa\n",
    "    frame_num = 0\n",
    "    cap = cv2.VideoCapture(video_path)\n",
    "    cap.set(1, frame_num) # indeksiranje frejmova\n",
    "    \n",
    "    # analiza videa frejm po frejm\n",
    "    while True:\n",
    "        frame_num += 1\n",
    "        grabbed, frame = cap.read()\n",
    "\n",
    "        # ako frejm nije zahvacen\n",
    "        if not grabbed:\n",
    "            break\n",
    "        \n",
    "        if frame_num == 1: # ako je prvi frejm, detektuj liniju\n",
    "            line_coords = detect_line(frame)\n",
    "            \n",
    "            k, n = get_line_params(line_coords)\n",
    "            print(\"\\nDetektovani parametri jednačine prave:\")\n",
    "            print(\"k=\", k)\n",
    "            print(\"n=\", n)\n",
    "            \n",
    "            # izdvajanje krajnjih x koordinata linije\n",
    "            line_left_x = line_coords[0]\n",
    "            line_right_x = line_coords[2]\n",
    "        \n",
    "        frame_gray = cv2.cvtColor(frame, cv2.COLOR_BGR2GRAY)\n",
    "        #plt.imshow(frame_gray, \"gray\")\n",
    "        thresh, frame_bin = cv2.threshold(frame_gray, 150, 255, cv2.THRESH_BINARY)\n",
    "        #plt.imshow(frame_bin, \"gray\")\n",
    "        frame_numbers = cv2.dilate(frame_bin, cv2.getStructuringElement(cv2.MORPH_ELLIPSE, (2, 2)), iterations=1)\n",
    "        #plt.imshow(frame_numbers, \"gray\")\n",
    "        contours, _ = cv2.findContours(frame_numbers.copy(), cv2.RETR_EXTERNAL, cv2.CHAIN_APPROX_SIMPLE)\n",
    "        rectangles = [cv2.boundingRect(contour) for contour in contours]\n",
    "        \n",
    "        # svaki pravougaonik je opisan sa x,y,w,h\n",
    "        for rectangle in rectangles:\n",
    "            x, y, w, h = rectangle\n",
    "            if h > 10: \n",
    "                # isecanje cifre i skaliranje na 28x28\n",
    "                roi = frame_numbers[y:y+h, x:x+w]\n",
    "                roi = cv2.resize(roi, (28, 28), interpolation=cv2.INTER_NEAREST)\n",
    "                \n",
    "                # hog\n",
    "                number_features = hog.compute(roi).reshape(1, -1)\n",
    "                predicted_number = classifier.predict(number_features)[0]\n",
    "                \n",
    "                # centar cifre\n",
    "                center_x = x + w / 2\n",
    "                center_y = 480 - (y + h / 2)\n",
    "                \n",
    "                if (line_left_x <= center_x <= line_right_x) and (detect_cross(center_x, center_y, k, n)):\n",
    "                    sum_of_nums += predicted_number\n",
    "\n",
    "    cap.release()\n",
    "    return sum_of_nums"
   ]
  },
  {
   "cell_type": "markdown",
   "metadata": {},
   "source": [
    "Ostalo je još samo da obučimo klasifikator i procesiramo testni video."
   ]
  },
  {
   "cell_type": "code",
   "execution_count": null,
   "metadata": {},
   "outputs": [],
   "source": [
    "hog = get_hog()\n",
    "classifier = train_classifier(hog)"
   ]
  },
  {
   "cell_type": "code",
   "execution_count": null,
   "metadata": {},
   "outputs": [],
   "source": [
    "suma = process_video(\"data/z1/videos/video-0.avi\", hog, classifier)"
   ]
  },
  {
   "cell_type": "code",
   "execution_count": null,
   "metadata": {},
   "outputs": [],
   "source": [
    "print(\"Izračunata suma: \", suma)"
   ]
  },
  {
   "cell_type": "markdown",
   "metadata": {},
   "source": [
    "## Zadaci\n",
    "\n",
    "### Zadatak 1 \n",
    "\n",
    "Pronaći sumu za svaki video zapis iz **data/z1/videos/**. Koristeći dobijene sume i tačne sume iz **data/z1/res.txt** izračunati **mean absolute percentage error.**\n",
    "\n",
    "### Zadatak 2  \n",
    "\n",
    "Na slikama iz **data/z2/** označiti zelenom bojom traku kojom se vozilo kreće.\n",
    "\n",
    "### Zadatak 3 - \"Teže\" sabiranje cifara\n",
    "\n",
    "Skup podataka se nalazi u **data/z3/**. Svaki video zapis iz **data/z3/videos/** poseduje:\n",
    "* jednu pokretnu liniju koja je uvek iste boje;\n",
    "* cifre koje predstavljaju modifikovane cifre iz MNIST skupa podataka, koje se kreću za slučajan broj koraka i prolaze iza pokretne linije.\n",
    "* Potrebno je izvršiti sabiranje svih cifara koje prođu ispod linije.\n",
    "* Izračunati **mean absolute percentage error** koristeći dobijene vrednosti i tačne vrednosti iz **data/z3/res.txt** datoteke."
   ]
  },
  {
   "cell_type": "code",
   "execution_count": null,
   "metadata": {},
   "outputs": [],
   "source": []
  }
 ],
 "metadata": {
  "kernelspec": {
   "display_name": "Python 3 (ipykernel)",
   "language": "python",
   "name": "python3"
  },
  "language_info": {
   "codemirror_mode": {
    "name": "ipython",
    "version": 3
   },
   "file_extension": ".py",
   "mimetype": "text/x-python",
   "name": "python",
   "nbconvert_exporter": "python",
   "pygments_lexer": "ipython3",
   "version": "3.10.13"
  }
 },
 "nbformat": 4,
 "nbformat_minor": 4
}
