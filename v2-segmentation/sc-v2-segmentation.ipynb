{
 "cells": [
  {
   "cell_type": "markdown",
   "id": "9ee52a52",
   "metadata": {},
   "source": [
    "# Soft Computing\n",
    "\n",
    "## Vežba 2 - Semantička segmentacija\n"
   ]
  },
  {
   "cell_type": "markdown",
   "id": "17806d43",
   "metadata": {},
   "source": [
    "Segmentacija slike je proces deljenja slike na više različitih regiona (segmenata). Doprinosi lakšoj analizi i razumevanju slika. Najčešće se koristi za izdvajanje objekata ili granica između objekata na slikama. Segmentacija u stvari predstavlja proces dodeljivanja određene labele svakom pikselu na slici, tako da pikseli koji imaju istu vrednost dele iste karakteristike (ili pripadaju istom objektu). Pronalazi višestruku upotrebu u medicini, autonomnoj vožnji, video nadzoru, itd.\n",
    "\n",
    "Na prethodnom terminu smo radili neke osnovne operacije za obradu slike. Upotrebom samo tih operacija za izdvajanje regiona od interesa ne bismo mogli dobiti željene rezultate za konture koje imaju malo dodirnih tačaka."
   ]
  },
  {
   "cell_type": "markdown",
   "id": "00684ab4",
   "metadata": {},
   "source": [
    "## Watershed"
   ]
  },
  {
   "cell_type": "markdown",
   "id": "b07dcf09",
   "metadata": {},
   "source": [
    "Česta operacija koja se koristi kada nam same boje ne nose mnogo informacija je konvertovanje iz RGB modela u nijanse sivih (grayscale). Na ovaj način se gubi informacija o boji piksela na slici, ali sama slika postaje mnogo lakša za dalju obradu. Svaka grayscale slika može biti posmatrana kao topografska površina gde pikseli visokog intenziteta označavaju vrhove i brda, dok se oni niskog intenziteta odnose na doline. \n",
    "\n",
    "<img src=\"images/watershed-flooding-graph.png\" width=\"400\">\n",
    "\n",
    "Svaku izolovanu dolinu (lokalni minimum) punimo različitom bojom (labele). Kako se nivo vode povećava, u zavisnosti od vrhova (gradijenata) koji su u blizini, voda iz različitih dolina (i različitih boja) će početi da se spaja. Kako bismo ovo izbegli, na mestima gde se voda spaja počinjemo da gradimo barijere. Postupak punjenja vode i izgradnje barijera se ponavlja sve dok svi vrhovi ne budu pod vodom. Na osnovu kreiranih barijera dobijamo segmentiranu sliku. "
   ]
  },
  {
   "cell_type": "markdown",
   "id": "efda2639",
   "metadata": {},
   "source": [
    "Primena algoritma na ovaj način može dovesti do prekomerne segmentacije, posebno za slike koje u sebi sadrže šum i veliki broj lokalnih minimuma. Unapređenje algoritma koje predstavlja plavljenje topografske površine iz prethodno definisanog skupa markera sprečava prekomernu segmentaciju. Detaljnije objašnjenje je dostupno [ovde](https://people.cmm.minesparis.psl.eu/users/beucher/wtshed.html). \n",
    "\n",
    "[OpenCV biblioteka](https://docs.opencv.org/4.4.0/d7/d1b/group__imgproc__misc.html#ga3267243e4d3f95165d55a618c65ac6e1) sadrži implementaciju marker-based watershed algoritma za koji je potrebno da sami odredimo koje doline će se spojiti, a koje ne:\n",
    "\n",
    "```code\n",
    "markers\t= cv.watershed(image, markers)\n",
    "```\n",
    "\n",
    "Parametar *image* predstavlja RGB sliku čije su vrednosti piksela predstavljene u realnom intervalu (float32).\n",
    "Parametar *markers* reprezentuje sliku istih dimenzija kao *image* koja sadrži sledeće oznake:\n",
    "1. poznati objekti su označeni različitim oznakama (label)\n",
    "2. delovi za koje smo sigurni da pripadaju pozadini (background) su označeni drugom bojom \n",
    "3. delovi za koje nismo sigurni da li pripadaju pozadini (background) ili su deo nekog objekta (foreground) su označeni sa 0.\n",
    "\n",
    "Izlaz predstavlja slika koja je dobijena tako što je ulazna slika *markers* ažurirana tako što su granice između objekata postavljene na vrednost -1."
   ]
  },
  {
   "cell_type": "code",
   "execution_count": null,
   "id": "6de1e44c",
   "metadata": {},
   "outputs": [],
   "source": [
    "import numpy as np\n",
    "import cv2 # OpenCV\n",
    "import matplotlib\n",
    "from matplotlib import pyplot as plt"
   ]
  },
  {
   "cell_type": "code",
   "execution_count": null,
   "id": "964f0914",
   "metadata": {},
   "outputs": [],
   "source": [
    "# iscrtavanje slika u notebook-u\n",
    "%matplotlib inline\n",
    "# prikaz vecih slika\n",
    "matplotlib.rcParams['figure.figsize'] = 16,12"
   ]
  },
  {
   "cell_type": "markdown",
   "id": "4e33d5fb",
   "metadata": {},
   "source": [
    "Sledeće metode su detaljno objašnjene na prethodnim vežbama."
   ]
  },
  {
   "cell_type": "code",
   "execution_count": null,
   "id": "6167b6f2",
   "metadata": {},
   "outputs": [],
   "source": [
    "def load_image(path):\n",
    "    return cv2.cvtColor(cv2.imread(path), cv2.COLOR_BGR2RGB)\n",
    "\n",
    "def image_gray(image):\n",
    "    return cv2.cvtColor(image, cv2.COLOR_RGB2GRAY)\n",
    "\n",
    "def image_bin(image_gs):\n",
    "    height, width = image_gs.shape[0:2]\n",
    "    image_binary = np.ndarray((height, width), dtype=np.uint8)\n",
    "    ret, image_bin = cv2.threshold(image_gs, 0, 255, cv2.THRESH_BINARY_INV+cv2.THRESH_OTSU)\n",
    "    return image_bin\n",
    "\n",
    "def invert(image):\n",
    "    return 255-image\n",
    "\n",
    "def display_image(image, color=False):\n",
    "    if color:\n",
    "        plt.imshow(image)\n",
    "    else:\n",
    "        plt.imshow(image, 'gray')"
   ]
  },
  {
   "cell_type": "markdown",
   "id": "21e131d6",
   "metadata": {},
   "source": [
    "Za početak, učitavamo sliku."
   ]
  },
  {
   "cell_type": "code",
   "execution_count": null,
   "id": "aff4ef35",
   "metadata": {},
   "outputs": [],
   "source": [
    "img = load_image(\"images/water_coins.jpg\")\n",
    "display_image(img, color=True)"
   ]
  },
  {
   "cell_type": "markdown",
   "id": "62f25324",
   "metadata": {},
   "source": [
    "Učitanu sliku transformišemo u binarni oblik i primenjujemo morfološke operacije kako bismo uklonili šum."
   ]
  },
  {
   "cell_type": "code",
   "execution_count": null,
   "id": "d9fb5965",
   "metadata": {},
   "outputs": [],
   "source": [
    "img_bin = image_bin(image_gray(img))\n",
    "# uklanjanje suma\n",
    "kernel = np.ones((3,3), np.uint8) # strukturni element 3x3 blok\n",
    "opening = cv2.morphologyEx(img_bin, cv2.MORPH_OPEN, kernel, iterations = 2) # otvaranje\n",
    "display_image(opening)"
   ]
  },
  {
   "cell_type": "markdown",
   "id": "de886303",
   "metadata": {},
   "source": [
    "Sve piksele delimo u tri grupe:\n",
    "1. one koji pripadaju pozadini (background)\n",
    "2. one koji pripadaju objektima (foreground) \n",
    "3. ostale"
   ]
  },
  {
   "cell_type": "markdown",
   "id": "c72010b6",
   "metadata": {},
   "source": [
    "Primenom dilacije povećavamo površinu objekata na slici tako da sa sigurnošću znamo da sve ono što predstavlja pozadinu rezultujuće slike, sigurno jeste pozadina. "
   ]
  },
  {
   "cell_type": "code",
   "execution_count": null,
   "id": "750f4889",
   "metadata": {},
   "outputs": [],
   "source": [
    "# izdvajanje regiona koji sigurno pripadaju pozadini (background)\n",
    "sure_bg = cv2.dilate(opening, kernel, iterations=3)\n",
    "display_image(sure_bg)"
   ]
  },
  {
   "cell_type": "markdown",
   "id": "1e52d48d",
   "metadata": {},
   "source": [
    "Pošto se objekti dodiruju, za izdvajanje piksela koji sigurno pripadaju novčićima koristimo [distanceTransform](https://docs.opencv.org/4.4.0/d7/d1b/group__imgproc__misc.html#ga8a0b7fdfcb7a13dde018988ba3a43042) metodu uz primenu odgovarajućeg praga. Metoda distanceTransform za svaki piksel (binarne) ulazne slike računa udaljenost od najbližeg piksela koji ima vrednost 0. Izlaz predstavlja slika sa izračunatim udaljenostima za svaki piksel, istih dimenzija kao ulazna slika."
   ]
  },
  {
   "cell_type": "code",
   "execution_count": null,
   "id": "b4c9e043",
   "metadata": {},
   "outputs": [],
   "source": [
    "# izdvajanje regiona koji pripadaju objektima (foreground)\n",
    "dist_transform = cv2.distanceTransform(opening, cv2.DIST_L2, 5) #  DIST_L2 - Euklidsko rastojanje\n",
    "display_image(dist_transform)"
   ]
  },
  {
   "cell_type": "code",
   "execution_count": null,
   "id": "11afce56-77f6-4d65-b511-4a8187697292",
   "metadata": {},
   "outputs": [],
   "source": [
    "# za prag uzimamo 70 percentil najudaljenijih piksela \n",
    "ret, sure_fg = cv2.threshold(dist_transform, 0.7 * dist_transform.max(), 255, 0) \n",
    "display_image(sure_fg)"
   ]
  },
  {
   "cell_type": "markdown",
   "id": "00860efc",
   "metadata": {},
   "source": [
    "Delove za koje nismo sigurni da li pripadaju pozadini ili objektu dobijamo oduzimanjem ove dve slike."
   ]
  },
  {
   "cell_type": "code",
   "execution_count": null,
   "id": "3efbf94a",
   "metadata": {},
   "outputs": [],
   "source": [
    "# izdvajanje ostalih delova za koje ne znamo da li predstavljaju background ili foreground\n",
    "sure_fg = np.uint8(sure_fg)\n",
    "unknown = cv2.subtract(sure_bg, sure_fg)\n",
    "display_image(unknown)"
   ]
  },
  {
   "cell_type": "markdown",
   "id": "4f94a11e",
   "metadata": {},
   "source": [
    "### Kreiranje markera\n",
    "\n",
    "Regione za koje znamo da pripadaju ili pozadini ili objektima označavamo bilo kojim pozitivnim (različitim) celim brojevima, dok nepoznatim regionima pridružujemo vrednost 0. \n",
    "\n",
    "OpenCV ima metodu **cv.connectedComponents()** koja pozadinu slike označava sa 0, a ostali brojevi se označavaju celim brojevima počev od 1."
   ]
  },
  {
   "cell_type": "code",
   "execution_count": null,
   "id": "0cff29f7",
   "metadata": {},
   "outputs": [],
   "source": [
    "# marker labelling\n",
    "ret, markers = cv2.connectedComponents(sure_fg)\n",
    "# svim vrednostima dodajemo 1 kako pozadina ne bi imala vrednost 0 (ona je rezervisana za nepoznate regione)\n",
    "markers = markers+1\n",
    "# oznacavanje nepoznatih regiona sa 0\n",
    "markers[unknown==255] = 0"
   ]
  },
  {
   "cell_type": "markdown",
   "id": "ef57bb1f",
   "metadata": {},
   "source": [
    "Prikaz rezultata pomocu JET mape boja. Tamnoplava boja odgovara nepoznatim regionima."
   ]
  },
  {
   "cell_type": "code",
   "execution_count": null,
   "id": "b6cba1b6",
   "metadata": {},
   "outputs": [],
   "source": [
    "def label2rgb(image):\n",
    "    cmap = plt.get_cmap('jet', len(np.unique(markers)))\n",
    "    return cmap(markers)"
   ]
  },
  {
   "cell_type": "code",
   "execution_count": null,
   "id": "be654211",
   "metadata": {},
   "outputs": [],
   "source": [
    "rgba_img = label2rgb(markers)\n",
    "display_image(rgba_img, color=True)"
   ]
  },
  {
   "cell_type": "markdown",
   "id": "0bb82821",
   "metadata": {},
   "source": [
    "Sada, sa ovako pripremljenim markerima, možemo primeniti watershed algoritam koji modifikuje ulaznu sliku markera tako što ivice između objekata označava sa -1. "
   ]
  },
  {
   "cell_type": "code",
   "execution_count": null,
   "id": "de415457",
   "metadata": {},
   "outputs": [],
   "source": [
    "markers = cv2.watershed(img, markers)\n",
    "img[markers == -1] = [255, 0, 0]"
   ]
  },
  {
   "cell_type": "code",
   "execution_count": null,
   "id": "58daa8e6",
   "metadata": {},
   "outputs": [],
   "source": [
    "rgba_img = label2rgb(markers)\n",
    "display_image(rgba_img, color=True)"
   ]
  },
  {
   "cell_type": "markdown",
   "id": "ef857ccc",
   "metadata": {},
   "source": [
    "Na sledeći način možemo dobiti broj detektovanih objekata (u ovom slučaju, novčića):"
   ]
  },
  {
   "cell_type": "code",
   "execution_count": null,
   "id": "739d5d62",
   "metadata": {},
   "outputs": [],
   "source": [
    "# markers je lista listi, gde je za svaki elemenat \"unutrasnjih\" listi boja piksela na slici\n",
    "print(markers)"
   ]
  },
  {
   "cell_type": "code",
   "execution_count": null,
   "id": "939bed8b",
   "metadata": {},
   "outputs": [],
   "source": [
    "# ovom linijom koda dobijamo sve unikatne vrednosti boja u svim \"unutrasnjim\" listama\n",
    "unique_colours = {x for l in markers for x in l}\n",
    "print(unique_colours)"
   ]
  },
  {
   "cell_type": "code",
   "execution_count": null,
   "id": "e3bb5194",
   "metadata": {},
   "outputs": [],
   "source": [
    "# -1 nam se odnosi na granice među objektima, ovu boju nećemo računati\n",
    "# jedan od ovih brojeva se odnosi na pozadinsku boju, pa zbog toga ne računamo još jednu boju\n",
    "# znači, ukupno treba da oduzmemo 2 boje od svih prisutnih, kako bismo dobili koliko je prisutno unikatnih boja,\n",
    "# odnosno detektovanih objekata\n",
    "number_of_coins = len(unique_colours) - 2\n",
    "print(\"Broj detektovanih novčića:\", number_of_coins)"
   ]
  },
  {
   "cell_type": "code",
   "execution_count": null,
   "id": "51ae107b",
   "metadata": {},
   "outputs": [],
   "source": [
    "display_image(img, color=True)"
   ]
  },
  {
   "cell_type": "markdown",
   "id": "42303e92",
   "metadata": {},
   "source": [
    "## K-means"
   ]
  },
  {
   "cell_type": "markdown",
   "id": "026b5617",
   "metadata": {},
   "source": [
    "### Podsećanje\n",
    "\n",
    "K-means je model nenadgledanog mašinskog učenja koji se koristi za grupisanje podataka u K različitih grupa.\n",
    "\n",
    "<img src=\"images/kmeans.gif\"/>"
   ]
  },
  {
   "cell_type": "markdown",
   "id": "dd4d7803",
   "metadata": {},
   "source": [
    "U OpenCV postoji implementirana metoda [kmeans](https://docs.opencv.org/4.4.0/d5/d38/group__core__cluster.html#ga9a34dc06c6ec9460e90860f15bcd2f88) koja ima sledeće ulazne parametre:\n",
    "* **samples** - uzorci na osnovu kojih će se vršiti klasterovanje, podaci moraju biti u obliku matrice ***koja sadrži np.float32 vrednosti gde svaka kolona predstavlja jedno obeležje (feature)***\n",
    "* **K** - broj klastera\n",
    "* **bestLabels** - parametar koji predstavlja i izlaz, niz celih brojeva koji čuvaju vrednost indeksa centra za svaki uzorak\n",
    "* **criteria** - kriterijum zaustavljanja, maksimalan broj iteracija ili željena tačnost\n",
    "* **attempts** - broj ponavljanja algoritma sa različitom inicijalizacijom početnih oznaka\n",
    "* **flags** - oznaka koja može imati jednu od vrednosti: KMEANS_RANDOM_CENTERS, KMEANS_PP_CENTERS, KMEANS_USE_INITIAL_LABELS \n",
    "\n",
    "Kao izlaz vraća tri vrednosti: kompaktnost (zbir kvadratnog rastojanja svake tačke od odgovarajućeg klastera), niz oznaka za svaki piksel i centre klastera."
   ]
  },
  {
   "cell_type": "markdown",
   "id": "ff1c2f46",
   "metadata": {},
   "source": [
    "### Početak implementacije\n",
    "\n",
    "Za početak, učitavamo sliku."
   ]
  },
  {
   "cell_type": "code",
   "execution_count": null,
   "id": "8dee2d5a",
   "metadata": {},
   "outputs": [],
   "source": [
    "image = load_image('images/nature.PNG')\n",
    "display_image(image, color=True)"
   ]
  },
  {
   "cell_type": "markdown",
   "id": "0fa62072",
   "metadata": {},
   "source": [
    "Kako *kmeans* na ulazu zahteva matricu *float32* vrednosti u kojoj svaka kolona predstavlja jedno obeležje, moramo sliku prebaciti u željeni oblik. Slika u boji ima tri obeležja: R, G i B, što znači da je moramo prebaciti u niz veličine Mx3, gde M predstavlja ukupan broj piksela. "
   ]
  },
  {
   "cell_type": "code",
   "execution_count": null,
   "id": "d7a37bba",
   "metadata": {},
   "outputs": [],
   "source": [
    "# sliku konvertujemo u 2D niz piksela sa po 3 vrednosti (RGB)\n",
    "pixel_values = image.reshape((-1,3)) \n",
    "# konvertujemo sve u float32\n",
    "pixel_values = np.float32(pixel_values)\n",
    "print(pixel_values.shape)"
   ]
  },
  {
   "cell_type": "markdown",
   "id": "35a966f2",
   "metadata": {},
   "source": [
    "Definišemo kriterijum zaustavljanja i broj klastera K i pozivamo metodu. \n",
    "\n",
    "Kriterijum zaustavljanja predstavlja tuple od 3 vrednosti (type, max_iter, epsilon). Tip zaustavljanja može uzeti jednu od tri vrednosti:\n",
    "* cv.TERM_CRITERIA_EPS - algoritam se zaustavlja ako je postignuta određena tačnost, epsilon\n",
    "* cv.TERM_CRITERIA_MAX_ITER - algoritam se zaustavlja nakon određenog broja iteracija, max_iter\n",
    "* cv.TERM_CRITERIA_EPS + cv.TERM_CRITERIA_MAX_ITER - algoritam se zaustavlja nakon što je ispunjen bilo koji od navedenih uslova"
   ]
  },
  {
   "cell_type": "code",
   "execution_count": null,
   "id": "e94b78bd",
   "metadata": {},
   "outputs": [],
   "source": [
    "criteria = (cv2.TERM_CRITERIA_EPS + cv2.TERM_CRITERIA_MAX_ITER, 100, 0.2)\n",
    "k = 3\n",
    "_, labels, (centers) = cv2.kmeans(pixel_values, k, None, criteria, 10, cv2.KMEANS_RANDOM_CENTERS)"
   ]
  },
  {
   "cell_type": "markdown",
   "id": "dfe397df",
   "metadata": {},
   "source": [
    "Nakon klasterovanja, svakom pikselu pridružujemo vrednost centra klastera kojem pripada, a potom sliku vraćamo u originalni oblik."
   ]
  },
  {
   "cell_type": "code",
   "execution_count": null,
   "id": "f8b6e1ff",
   "metadata": {},
   "outputs": [],
   "source": [
    "# konvertujemo vrednosti u 8-bitne\n",
    "centers = np.uint8(centers)\n",
    "# mapiramo sve piksele na boju koja odgovara centru klastera\n",
    "segmented_data = centers[labels.flatten()]\n",
    "# vraćamo u dimenzije slike\n",
    "segmented_image = segmented_data.reshape((image.shape))\n",
    "display_image(segmented_image, color=True)"
   ]
  },
  {
   "cell_type": "markdown",
   "id": "a4e5cecb",
   "metadata": {},
   "source": [
    "Kako bismo utvrdili koji klaster se odnosi na koji deo, možemo te piksele prikazati u crnoj boji."
   ]
  },
  {
   "cell_type": "code",
   "execution_count": null,
   "id": "2082d26f",
   "metadata": {},
   "outputs": [],
   "source": [
    "# piksele klastera označenim brojem 2 pretvaramo u crne\n",
    "masked_image = np.copy(image)\n",
    "# sliku konvertujemo u vektor piksela dimenzija Mx3\n",
    "masked_image = masked_image.reshape((-1, 3))\n",
    "# biramo koji klaster želimo da izdvojimo\n",
    "cluster = 2\n",
    "labels = labels.flatten()\n",
    "masked_image[labels == cluster] = [0, 0, 0]\n",
    "# vraćamo sliku u početni oblik\n",
    "masked_image = masked_image.reshape(image.shape)\n",
    "display_image(masked_image)"
   ]
  },
  {
   "cell_type": "markdown",
   "id": "fa82b147",
   "metadata": {},
   "source": [
    "## Zadaci\n",
    "\n",
    "1. Na slici sa novčićima (**images/coins.jpg**), prebrojati koliko ima novčića\n",
    "\n",
    "2. Na slici sa crvenim krvnim zrncima (**images/bloodcells.jpg**), prebrojati koliko ima crvenih krvnih zrnaca.\n",
    "\n",
    "3. Na slici sa tabletama (**images/tablets.jpg**) prebrojati koliko ima tableta\n",
    "\n",
    "4. Na slike sa kafom (**images/coffee.gif**) prebrojati koliko ima zrna kafe.    \n",
    "\n",
    "5. Na slici sa kruškama (**images/pears.png**) prebrojati koliko ima krušaka.  \n",
    "\n",
    "6. Sa slike plaže (**images/beach.jpeg**) izdvojiti more\n",
    "\n",
    "7. Sa slike gde se nalazi konj (**images/horse.jpg**) izdvojiti konja i livadu\n"
   ]
  },
  {
   "cell_type": "code",
   "execution_count": null,
   "id": "9a23c2ba",
   "metadata": {},
   "outputs": [],
   "source": []
  }
 ],
 "metadata": {
  "kernelspec": {
   "display_name": "Python 3 (ipykernel)",
   "language": "python",
   "name": "python3"
  },
  "language_info": {
   "codemirror_mode": {
    "name": "ipython",
    "version": 3
   },
   "file_extension": ".py",
   "mimetype": "text/x-python",
   "name": "python",
   "nbconvert_exporter": "python",
   "pygments_lexer": "ipython3",
   "version": "3.10.13"
  }
 },
 "nbformat": 4,
 "nbformat_minor": 5
}
